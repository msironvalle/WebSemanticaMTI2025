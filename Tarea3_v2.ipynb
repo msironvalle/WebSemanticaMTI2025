{
  "cells": [
    {
      "cell_type": "markdown",
      "metadata": {
        "id": "view-in-github",
        "colab_type": "text"
      },
      "source": [
        "<a href=\"https://colab.research.google.com/github/msironvalle/WebSemanticaMTI2025/blob/main/Tarea3_v2.ipynb\" target=\"_parent\"><img src=\"https://colab.research.google.com/assets/colab-badge.svg\" alt=\"Open In Colab\"/></a>"
      ]
    },
    {
      "cell_type": "markdown",
      "source": [
        "# Validacion Primer set de datos : Zonas fronterizas"
      ],
      "metadata": {
        "id": "mgdQuedcSlq8"
      }
    },
    {
      "cell_type": "code",
      "execution_count": null,
      "metadata": {
        "colab": {
          "base_uri": "https://localhost:8080/"
        },
        "id": "P-fmvfN3jgrx",
        "outputId": "7c755041-f861-42b6-9205-316c8b93f9e2"
      },
      "outputs": [
        {
          "output_type": "stream",
          "name": "stdout",
          "text": [
            "Drive already mounted at /content/drive; to attempt to forcibly remount, call drive.mount(\"/content/drive\", force_remount=True).\n"
          ]
        }
      ],
      "source": [
        "from google.colab import drive\n",
        "\n",
        "# Montar Google Drive\n",
        "drive.mount('/content/drive')\n",
        "\n",
        "# Instalar dependencias\n",
        "# !pip install pyshex pyshacl rdflib\n",
        "\n"
      ]
    },
    {
      "cell_type": "markdown",
      "source": [
        "Validador ShEx\n",
        "\n",
        "PREFIX ex: <http://example.org/poblacion#>\n",
        "PREFIX xsd: <http://www.w3.org/2001/XMLSchema#>\n",
        "\n",
        "START = @<PopulationDataShape>\n",
        "\n",
        "<PopulationDataShape> {\n",
        "    a [ex:PopulationData] ;\n",
        "    ex:region xsd:string ;\n",
        "    ex:edad xsd:string ;\n",
        "    ex:genero xsd:string ;\n",
        "    ex:poblacion xsd:integer ;\n",
        "    ex:ano xsd:integer\n",
        "}"
      ],
      "metadata": {
        "id": "eaijrLZHSJKq"
      }
    },
    {
      "cell_type": "code",
      "execution_count": null,
      "metadata": {
        "colab": {
          "base_uri": "https://localhost:8080/"
        },
        "id": "51us--Kfjl9I",
        "outputId": "2c41a909-d677-49bb-a7a8-01e7a7ff786f"
      },
      "outputs": [
        {
          "output_type": "stream",
          "name": "stdout",
          "text": [
            "Conformidad: False, Nodo: http://example.org/pasos_fronterizos#PasoFronterizo\n",
            "Conformidad: True, Nodo: http://example.org/pasos_fronterizos#PasoFronterizo_1\n",
            "Conformidad: True, Nodo: http://example.org/pasos_fronterizos#PasoFronterizo_10\n",
            "Conformidad: True, Nodo: http://example.org/pasos_fronterizos#PasoFronterizo_11\n",
            "Conformidad: True, Nodo: http://example.org/pasos_fronterizos#PasoFronterizo_12\n",
            "Conformidad: True, Nodo: http://example.org/pasos_fronterizos#PasoFronterizo_13\n",
            "Conformidad: True, Nodo: http://example.org/pasos_fronterizos#PasoFronterizo_14\n",
            "Conformidad: True, Nodo: http://example.org/pasos_fronterizos#PasoFronterizo_15\n",
            "Conformidad: True, Nodo: http://example.org/pasos_fronterizos#PasoFronterizo_16\n",
            "Conformidad: True, Nodo: http://example.org/pasos_fronterizos#PasoFronterizo_17\n",
            "Conformidad: True, Nodo: http://example.org/pasos_fronterizos#PasoFronterizo_18\n",
            "Conformidad: True, Nodo: http://example.org/pasos_fronterizos#PasoFronterizo_19\n",
            "Conformidad: True, Nodo: http://example.org/pasos_fronterizos#PasoFronterizo_2\n",
            "Conformidad: True, Nodo: http://example.org/pasos_fronterizos#PasoFronterizo_20\n",
            "Conformidad: True, Nodo: http://example.org/pasos_fronterizos#PasoFronterizo_21\n",
            "Conformidad: True, Nodo: http://example.org/pasos_fronterizos#PasoFronterizo_22\n",
            "Conformidad: True, Nodo: http://example.org/pasos_fronterizos#PasoFronterizo_23\n",
            "Conformidad: True, Nodo: http://example.org/pasos_fronterizos#PasoFronterizo_24\n",
            "Conformidad: True, Nodo: http://example.org/pasos_fronterizos#PasoFronterizo_25\n",
            "Conformidad: True, Nodo: http://example.org/pasos_fronterizos#PasoFronterizo_26\n",
            "Conformidad: True, Nodo: http://example.org/pasos_fronterizos#PasoFronterizo_27\n",
            "Conformidad: True, Nodo: http://example.org/pasos_fronterizos#PasoFronterizo_28\n",
            "Conformidad: True, Nodo: http://example.org/pasos_fronterizos#PasoFronterizo_29\n",
            "Conformidad: True, Nodo: http://example.org/pasos_fronterizos#PasoFronterizo_3\n",
            "Conformidad: True, Nodo: http://example.org/pasos_fronterizos#PasoFronterizo_30\n",
            "Conformidad: True, Nodo: http://example.org/pasos_fronterizos#PasoFronterizo_31\n",
            "Conformidad: True, Nodo: http://example.org/pasos_fronterizos#PasoFronterizo_32\n",
            "Conformidad: True, Nodo: http://example.org/pasos_fronterizos#PasoFronterizo_33\n",
            "Conformidad: True, Nodo: http://example.org/pasos_fronterizos#PasoFronterizo_34\n",
            "Conformidad: True, Nodo: http://example.org/pasos_fronterizos#PasoFronterizo_35\n",
            "Conformidad: True, Nodo: http://example.org/pasos_fronterizos#PasoFronterizo_4\n",
            "Conformidad: True, Nodo: http://example.org/pasos_fronterizos#PasoFronterizo_5\n",
            "Conformidad: True, Nodo: http://example.org/pasos_fronterizos#PasoFronterizo_6\n",
            "Conformidad: True, Nodo: http://example.org/pasos_fronterizos#PasoFronterizo_7\n",
            "Conformidad: True, Nodo: http://example.org/pasos_fronterizos#PasoFronterizo_8\n",
            "Conformidad: True, Nodo: http://example.org/pasos_fronterizos#PasoFronterizo_9\n"
          ]
        }
      ],
      "source": [
        "from pyshex import ShExEvaluator\n",
        "\n",
        "# Rutas de los archivos\n",
        "rdf_path = \"/content/drive/My Drive/output_PasosFronterizos_7.rdf\"\n",
        "shex_path = \"/content/drive/My Drive/schema.shex\"\n",
        "\n",
        "# Leer RDF y ShEx\n",
        "with open(rdf_path, \"r\", encoding=\"utf-8\") as rdf_file:\n",
        "    rdf_data = rdf_file.read()\n",
        "\n",
        "with open(shex_path, \"r\", encoding=\"utf-8\") as shex_file:\n",
        "    shex_schema = shex_file.read()\n",
        "\n",
        "# Validar datos RDF contra ShEx\n",
        "evaluator = ShExEvaluator(rdf=rdf_data, schema=shex_schema)\n",
        "results = evaluator.evaluate()\n",
        "\n",
        "# Imprimir resultados\n",
        "for result in results:\n",
        "    print(f\"Conformidad: {result.result}, Nodo: {result.focus}\")"
      ]
    },
    {
      "cell_type": "code",
      "source": [
        "!pip install --upgrade rdflib\n",
        "!pip install --upgrade pyshacl"
      ],
      "metadata": {
        "colab": {
          "base_uri": "https://localhost:8080/"
        },
        "id": "LPoRIHlEREnV",
        "outputId": "8ee8e051-c8ab-4f27-ee0f-7073a14e7f14"
      },
      "execution_count": null,
      "outputs": [
        {
          "output_type": "stream",
          "name": "stdout",
          "text": [
            "Requirement already satisfied: rdflib in /usr/local/lib/python3.11/dist-packages (7.1.3)\n",
            "Requirement already satisfied: pyparsing<4,>=2.1.0 in /usr/local/lib/python3.11/dist-packages (from rdflib) (3.2.1)\n",
            "Requirement already satisfied: pyshacl in /usr/local/lib/python3.11/dist-packages (0.30.0)\n",
            "Requirement already satisfied: importlib-metadata>6 in /usr/local/lib/python3.11/dist-packages (from pyshacl) (8.6.1)\n",
            "Requirement already satisfied: owlrl<8,>=7.1.2 in /usr/local/lib/python3.11/dist-packages (from pyshacl) (7.1.3)\n",
            "Requirement already satisfied: packaging>=21.3 in /usr/local/lib/python3.11/dist-packages (from pyshacl) (24.2)\n",
            "Requirement already satisfied: prettytable>=3.5.0 in /usr/local/lib/python3.11/dist-packages (from pyshacl) (3.13.0)\n",
            "Requirement already satisfied: rdflib<8.0,>=7.1.1 in /usr/local/lib/python3.11/dist-packages (from rdflib[html]<8.0,>=7.1.1->pyshacl) (7.1.3)\n",
            "Requirement already satisfied: zipp>=3.20 in /usr/local/lib/python3.11/dist-packages (from importlib-metadata>6->pyshacl) (3.21.0)\n",
            "Requirement already satisfied: wcwidth in /usr/local/lib/python3.11/dist-packages (from prettytable>=3.5.0->pyshacl) (0.2.13)\n",
            "Requirement already satisfied: pyparsing<4,>=2.1.0 in /usr/local/lib/python3.11/dist-packages (from rdflib<8.0,>=7.1.1->rdflib[html]<8.0,>=7.1.1->pyshacl) (3.2.1)\n",
            "Requirement already satisfied: html5rdf<2,>=1.2 in /usr/local/lib/python3.11/dist-packages (from rdflib[html]<8.0,>=7.1.1->pyshacl) (1.2.1)\n"
          ]
        }
      ]
    },
    {
      "cell_type": "code",
      "source": [
        "import os\n",
        "from rdflib import Graph\n",
        "from pyshacl import validate"
      ],
      "metadata": {
        "id": "kPBXJuSzRPfi"
      },
      "execution_count": null,
      "outputs": []
    },
    {
      "cell_type": "markdown",
      "source": [
        "Validador SHACL\n",
        "\n",
        "\n",
        "@prefix sh: <http://www.w3.org/ns/shacl#> .\n",
        "@prefix ex: <http://example.org/pasos_fronterizos#> .\n",
        "@prefix xsd: <http://www.w3.org/2001/XMLSchema#> .\n",
        "@prefix geo: <http://www.w3.org/2003/01/geo/wgs84_pos#> .\n",
        "\n",
        "ex:PasoFronterizoShape a sh:NodeShape ;\n",
        "    sh:targetClass ex:PasoFronterizo ;\n",
        "    sh:property [\n",
        "        sh:path ex:altura ;\n",
        "        sh:datatype xsd:integer ;\n",
        "        sh:required true ;\n",
        "    ] ;\n",
        "    sh:property [\n",
        "        sh:path ex:nombre ;\n",
        "        sh:datatype xsd:string ;\n",
        "        sh:required true ;\n",
        "    ] ;\n",
        "    sh:property [\n",
        "        sh:path ex:region ;\n",
        "        sh:datatype xsd:string ;\n",
        "        sh:required true ;\n",
        "    ] ;\n",
        "    sh:property [\n",
        "        sh:path ex:unidad ;\n",
        "        sh:datatype xsd:string ;\n",
        "        sh:required true ;\n",
        "    ] ;\n",
        "    sh:property [\n",
        "        sh:path geo:lat ;\n",
        "        sh:datatype xsd:decimal ;\n",
        "        sh:required true ;\n",
        "        sh:minInclusive -90 ;\n",
        "        sh:maxInclusive 90 ;\n",
        "    ] ;\n",
        "    sh:property [\n",
        "        sh:path geo:long ;\n",
        "        sh:datatype xsd:decimal ;\n",
        "        sh:required true ;\n",
        "        sh:minInclusive -180 ;\n",
        "        sh:maxInclusive 180 ;\n",
        "    ] ."
      ],
      "metadata": {
        "id": "ARmKjd49R_dM"
      }
    },
    {
      "cell_type": "code",
      "source": [
        "# Definir la ruta al archivo RDF en Google Drive\n",
        "rdf_file_path = '/content/drive/My Drive/output_PasosFronterizos_6.rdf'\n",
        "\n",
        "# Definir la ruta al archivo SHACL en Google Drive\n",
        "shacl_file_path = '/content/drive/My Drive/schemaPasosFronterizos.shacl'\n",
        "\n",
        "# Verificar que los archivos existan\n",
        "if not os.path.exists(rdf_file_path):\n",
        "    raise FileNotFoundError(f\"El archivo RDF no se encuentra en la ruta especificada: {rdf_file_path}\")\n",
        "\n",
        "if not os.path.exists(shacl_file_path):\n",
        "    raise FileNotFoundError(f\"El archivo SHACL no se encuentra en la ruta especificada: {shacl_file_path}\")"
      ],
      "metadata": {
        "id": "XOlsyiRtRRyA"
      },
      "execution_count": null,
      "outputs": []
    },
    {
      "cell_type": "code",
      "source": [
        "# Crear un grafo RDF y cargar el archivo RDF\n",
        "g = Graph()\n",
        "g.parse(rdf_file_path, format='turtle')\n",
        "\n",
        "# Leer el esquema SHACL como string\n",
        "with open(shacl_file_path, 'r', encoding='utf-8') as f:\n",
        "    shacl_graph = f.read()"
      ],
      "metadata": {
        "id": "KMgn2m9ERYBa"
      },
      "execution_count": null,
      "outputs": []
    },
    {
      "cell_type": "code",
      "source": [
        "# Realizar la validación SHACL\n",
        "conforms, results_graph, results_text = validate(\n",
        "    data_graph=g,\n",
        "    shacl_graph=shacl_graph,\n",
        "    ont_graph=None,\n",
        "    inference='rdfs',\n",
        "    abort_on_first=False,\n",
        "    meta_shacl=False,\n",
        "    debug=False\n",
        ")"
      ],
      "metadata": {
        "id": "cZ08O7vBRbzD"
      },
      "execution_count": null,
      "outputs": []
    },
    {
      "cell_type": "code",
      "source": [
        "# Mostrar si los datos cumplen con el esquema SHACL\n",
        "print(f\"Conforma con el esquema SHACL: {conforms}\\n\")\n",
        "\n",
        "# Mostrar el reporte de resultados\n",
        "print(\"Reporte de Validación SHACL:\")\n",
        "print(results_text)"
      ],
      "metadata": {
        "id": "Y3GatA6_RvXs",
        "outputId": "a045d852-db30-4559-c561-19895a55a3a1",
        "colab": {
          "base_uri": "https://localhost:8080/"
        }
      },
      "execution_count": null,
      "outputs": [
        {
          "output_type": "stream",
          "name": "stdout",
          "text": [
            "Conforma con el esquema SHACL: True\n",
            "\n",
            "Reporte de Validación SHACL:\n",
            "Validation Report\n",
            "Conforms: True\n",
            "\n"
          ]
        }
      ]
    },
    {
      "cell_type": "markdown",
      "source": [
        "# Validación segundo Set de Datos"
      ],
      "metadata": {
        "id": "M93JOkTARcE-"
      }
    },
    {
      "cell_type": "code",
      "source": [
        "from google.colab import drive\n",
        "drive.mount('/content/drive')"
      ],
      "metadata": {
        "colab": {
          "base_uri": "https://localhost:8080/"
        },
        "id": "iszIXpaoWiWh",
        "outputId": "f99bbd65-4d0e-4716-8233-3025f36048c6"
      },
      "execution_count": null,
      "outputs": [
        {
          "output_type": "stream",
          "name": "stdout",
          "text": [
            "Drive already mounted at /content/drive; to attempt to forcibly remount, call drive.mount(\"/content/drive\", force_remount=True).\n"
          ]
        }
      ]
    },
    {
      "cell_type": "code",
      "source": [
        "!pip install --upgrade rdflib\n",
        "!pip install --upgrade pyshacl\n",
        "!pip install --upgrade pyshex"
      ],
      "metadata": {
        "colab": {
          "base_uri": "https://localhost:8080/"
        },
        "id": "s1NCJWR3Wf-T",
        "outputId": "63a71443-01ea-43d2-a9f1-bb1c63d40018"
      },
      "execution_count": null,
      "outputs": [
        {
          "output_type": "stream",
          "name": "stdout",
          "text": [
            "Requirement already satisfied: rdflib in /usr/local/lib/python3.11/dist-packages (7.1.3)\n",
            "Requirement already satisfied: pyparsing<4,>=2.1.0 in /usr/local/lib/python3.11/dist-packages (from rdflib) (3.2.1)\n",
            "Requirement already satisfied: pyshacl in /usr/local/lib/python3.11/dist-packages (0.30.0)\n",
            "Requirement already satisfied: importlib-metadata>6 in /usr/local/lib/python3.11/dist-packages (from pyshacl) (8.6.1)\n",
            "Requirement already satisfied: owlrl<8,>=7.1.2 in /usr/local/lib/python3.11/dist-packages (from pyshacl) (7.1.3)\n",
            "Requirement already satisfied: packaging>=21.3 in /usr/local/lib/python3.11/dist-packages (from pyshacl) (24.2)\n",
            "Requirement already satisfied: prettytable>=3.5.0 in /usr/local/lib/python3.11/dist-packages (from pyshacl) (3.13.0)\n",
            "Requirement already satisfied: rdflib<8.0,>=7.1.1 in /usr/local/lib/python3.11/dist-packages (from rdflib[html]<8.0,>=7.1.1->pyshacl) (7.1.3)\n",
            "Requirement already satisfied: zipp>=3.20 in /usr/local/lib/python3.11/dist-packages (from importlib-metadata>6->pyshacl) (3.21.0)\n",
            "Requirement already satisfied: wcwidth in /usr/local/lib/python3.11/dist-packages (from prettytable>=3.5.0->pyshacl) (0.2.13)\n",
            "Requirement already satisfied: pyparsing<4,>=2.1.0 in /usr/local/lib/python3.11/dist-packages (from rdflib<8.0,>=7.1.1->rdflib[html]<8.0,>=7.1.1->pyshacl) (3.2.1)\n",
            "Requirement already satisfied: html5rdf<2,>=1.2 in /usr/local/lib/python3.11/dist-packages (from rdflib[html]<8.0,>=7.1.1->pyshacl) (1.2.1)\n",
            "Requirement already satisfied: pyshex in /usr/local/lib/python3.11/dist-packages (0.8.1)\n",
            "Requirement already satisfied: cfgraph>=0.2.1 in /usr/local/lib/python3.11/dist-packages (from pyshex) (0.2.1)\n",
            "Requirement already satisfied: chardet in /usr/local/lib/python3.11/dist-packages (from pyshex) (5.2.0)\n",
            "Requirement already satisfied: pyshexc==0.9.1 in /usr/local/lib/python3.11/dist-packages (from pyshex) (0.9.1)\n",
            "Requirement already satisfied: rdflib-shim in /usr/local/lib/python3.11/dist-packages (from pyshex) (1.0.3)\n",
            "Requirement already satisfied: requests>=2.22.0 in /usr/local/lib/python3.11/dist-packages (from pyshex) (2.32.3)\n",
            "Requirement already satisfied: shexjsg>=0.8.2 in /usr/local/lib/python3.11/dist-packages (from pyshex) (0.8.2)\n",
            "Requirement already satisfied: sparqlslurper>=0.5.1 in /usr/local/lib/python3.11/dist-packages (from pyshex) (0.5.1)\n",
            "Requirement already satisfied: sparqlwrapper>=1.8.5 in /usr/local/lib/python3.11/dist-packages (from pyshex) (2.0.0)\n",
            "Requirement already satisfied: urllib3 in /usr/local/lib/python3.11/dist-packages (from pyshex) (2.3.0)\n",
            "Requirement already satisfied: antlr4-python3-runtime~=4.9.3 in /usr/local/lib/python3.11/dist-packages (from pyshexc==0.9.1->pyshex) (4.9.3)\n",
            "Requirement already satisfied: jsonasobj>=1.2.1 in /usr/local/lib/python3.11/dist-packages (from pyshexc==0.9.1->pyshex) (1.3.1)\n",
            "Requirement already satisfied: pyjsg>=0.11.10 in /usr/local/lib/python3.11/dist-packages (from pyshexc==0.9.1->pyshex) (0.11.10)\n",
            "Requirement already satisfied: rdflib>=0.4.2 in /usr/local/lib/python3.11/dist-packages (from cfgraph>=0.2.1->pyshex) (7.1.3)\n",
            "Requirement already satisfied: charset-normalizer<4,>=2 in /usr/local/lib/python3.11/dist-packages (from requests>=2.22.0->pyshex) (3.4.1)\n",
            "Requirement already satisfied: idna<4,>=2.5 in /usr/local/lib/python3.11/dist-packages (from requests>=2.22.0->pyshex) (3.10)\n",
            "Requirement already satisfied: certifi>=2017.4.17 in /usr/local/lib/python3.11/dist-packages (from requests>=2.22.0->pyshex) (2024.12.14)\n",
            "Requirement already satisfied: rdflib-jsonld==0.6.1 in /usr/local/lib/python3.11/dist-packages (from rdflib-shim->pyshex) (0.6.1)\n",
            "Requirement already satisfied: pyparsing<4,>=2.1.0 in /usr/local/lib/python3.11/dist-packages (from rdflib>=0.4.2->cfgraph>=0.2.1->pyshex) (3.2.1)\n"
          ]
        }
      ]
    },
    {
      "cell_type": "code",
      "source": [
        "from rdflib import Graph, Namespace, RDF\n",
        "\n",
        "# Definir el Namespace\n",
        "EX = Namespace(\"http://example.org/schools#\")\n",
        "\n",
        "# Rutas de los archivos\n",
        "rdf_path = '/content/drive/My Drive/output_SchoolsDurham.rdf'\n",
        "shex_path = '/content/drive/My Drive/schemaSchoolsDurham.shex'\n",
        "\n",
        "# Cargar el RDF\n",
        "g = Graph()\n",
        "try:\n",
        "    g.parse(rdf_path, format='turtle')  # Ajusta el formato si es necesario\n",
        "    print(\"RDF cargado correctamente.\")\n",
        "except Exception as e:\n",
        "    print(f\"Error al cargar el RDF: {e}\")\n",
        "\n",
        "# Listar algunas triples para verificar el contenido\n",
        "print(\"\\nListado de algunas triples:\")\n",
        "for i, triple in enumerate(g):\n",
        "    print(triple)\n",
        "    if i >= 10:\n",
        "        break\n",
        "\n",
        "# Confirmar el Namespace\n",
        "print(\"\\nNamespaces en el RDF:\")\n",
        "for prefix, namespace in g.namespaces():\n",
        "    print(f\"{prefix}: {namespace}\")\n",
        "\n",
        "# Listar instancias de ex:School\n",
        "instances = list(g.subjects(RDF.type, EX.School))\n",
        "print(f\"\\nTotal de instancias encontradas: {len(instances)}\")\n",
        "\n",
        "if len(instances) > 0:\n",
        "    print(\"\\nInstancias encontradas:\")\n",
        "    for inst in instances[:10]:  # Mostrar las primeras 10\n",
        "        print(inst)\n",
        "else:\n",
        "    print(\"No se encontraron instancias de ex:School. Verifica el Namespace y el contenido del RDF.\")"
      ],
      "metadata": {
        "colab": {
          "base_uri": "https://localhost:8080/"
        },
        "id": "IyCKYYbvaQGx",
        "outputId": "2c033d4d-2f94-4fef-eecb-ecc905715284"
      },
      "execution_count": null,
      "outputs": [
        {
          "output_type": "stream",
          "name": "stdout",
          "text": [
            "RDF cargado correctamente.\n",
            "\n",
            "Listado de algunas triples:\n",
            "(rdflib.term.URIRef('http://example.org/schools#School_86'), rdflib.term.URIRef('http://example.org/schools#easting'), rdflib.term.Literal('402201.5625', datatype=rdflib.term.URIRef('http://www.w3.org/2001/XMLSchema#decimal')))\n",
            "(rdflib.term.URIRef('http://example.org/schools#School_82'), rdflib.term.URIRef('http://example.org/schools#address3'), rdflib.term.Literal('Stockton-on-Tees', datatype=rdflib.term.URIRef('http://www.w3.org/2001/XMLSchema#string')))\n",
            "(rdflib.term.URIRef('http://example.org/schools#School_214'), rdflib.term.URIRef('http://example.org/schools#long'), rdflib.term.Literal('-1.857403', datatype=rdflib.term.URIRef('http://www.w3.org/2001/XMLSchema#decimal')))\n",
            "(rdflib.term.URIRef('http://example.org/schools#School_170'), rdflib.term.URIRef('http://example.org/schools#address1'), rdflib.term.Literal('Grange Terrace', datatype=rdflib.term.URIRef('http://www.w3.org/2001/XMLSchema#string')))\n",
            "(rdflib.term.URIRef('http://example.org/schools#School_116'), rdflib.term.URIRef('http://example.org/schools#lat'), rdflib.term.Literal('54.836998', datatype=rdflib.term.URIRef('http://www.w3.org/2001/XMLSchema#decimal')))\n",
            "(rdflib.term.URIRef('http://example.org/schools#School_49'), rdflib.term.URIRef('http://example.org/schools#address2'), rdflib.term.Literal('Barnard Castle', datatype=rdflib.term.URIRef('http://www.w3.org/2001/XMLSchema#string')))\n",
            "(rdflib.term.URIRef('http://example.org/schools#School_151'), rdflib.term.URIRef('http://example.org/schools#address1'), rdflib.term.Literal('Rookhope', datatype=rdflib.term.URIRef('http://www.w3.org/2001/XMLSchema#string')))\n",
            "(rdflib.term.URIRef('http://example.org/schools#School_102'), rdflib.term.URIRef('http://example.org/schools#address2'), rdflib.term.Literal('Hartlepool', datatype=rdflib.term.URIRef('http://www.w3.org/2001/XMLSchema#string')))\n",
            "(rdflib.term.URIRef('http://example.org/schools#School_248'), rdflib.term.URIRef('http://example.org/schools#northing'), rdflib.term.Literal('534292.0', datatype=rdflib.term.URIRef('http://www.w3.org/2001/XMLSchema#decimal')))\n",
            "(rdflib.term.URIRef('http://example.org/schools#School_73'), rdflib.term.URIRef('http://example.org/schools#address2'), rdflib.term.Literal('Esh Village', datatype=rdflib.term.URIRef('http://www.w3.org/2001/XMLSchema#string')))\n",
            "(rdflib.term.URIRef('http://example.org/schools#School_233'), rdflib.term.URIRef('http://example.org/schools#easting'), rdflib.term.Literal('425424.8628', datatype=rdflib.term.URIRef('http://www.w3.org/2001/XMLSchema#decimal')))\n",
            "\n",
            "Namespaces en el RDF:\n",
            "brick: https://brickschema.org/schema/Brick#\n",
            "csvw: http://www.w3.org/ns/csvw#\n",
            "dc: http://purl.org/dc/elements/1.1/\n",
            "dcat: http://www.w3.org/ns/dcat#\n",
            "dcmitype: http://purl.org/dc/dcmitype/\n",
            "dcterms: http://purl.org/dc/terms/\n",
            "dcam: http://purl.org/dc/dcam/\n",
            "doap: http://usefulinc.com/ns/doap#\n",
            "foaf: http://xmlns.com/foaf/0.1/\n",
            "geo: http://www.opengis.net/ont/geosparql#\n",
            "odrl: http://www.w3.org/ns/odrl/2/\n",
            "org: http://www.w3.org/ns/org#\n",
            "prof: http://www.w3.org/ns/dx/prof/\n",
            "prov: http://www.w3.org/ns/prov#\n",
            "qb: http://purl.org/linked-data/cube#\n",
            "schema: https://schema.org/\n",
            "sh: http://www.w3.org/ns/shacl#\n",
            "skos: http://www.w3.org/2004/02/skos/core#\n",
            "sosa: http://www.w3.org/ns/sosa/\n",
            "ssn: http://www.w3.org/ns/ssn/\n",
            "time: http://www.w3.org/2006/time#\n",
            "vann: http://purl.org/vocab/vann/\n",
            "void: http://rdfs.org/ns/void#\n",
            "wgs: https://www.w3.org/2003/01/geo/wgs84_pos#\n",
            "owl: http://www.w3.org/2002/07/owl#\n",
            "rdf: http://www.w3.org/1999/02/22-rdf-syntax-ns#\n",
            "rdfs: http://www.w3.org/2000/01/rdf-schema#\n",
            "xsd: http://www.w3.org/2001/XMLSchema#\n",
            "xml: http://www.w3.org/XML/1998/namespace\n",
            "ex: http://example.org/schools#\n",
            "geo1: http://www.w3.org/2003/01/geo/wgs84_pos#\n",
            "\n",
            "Total de instancias encontradas: 267\n",
            "\n",
            "Instancias encontradas:\n",
            "http://example.org/schools#School_1\n",
            "http://example.org/schools#School_2\n",
            "http://example.org/schools#School_3\n",
            "http://example.org/schools#School_4\n",
            "http://example.org/schools#School_5\n",
            "http://example.org/schools#School_6\n",
            "http://example.org/schools#School_7\n",
            "http://example.org/schools#School_8\n",
            "http://example.org/schools#School_9\n",
            "http://example.org/schools#School_10\n"
          ]
        }
      ]
    },
    {
      "cell_type": "code",
      "source": [
        "import os\n",
        "import csv\n",
        "from rdflib import Graph, Namespace, RDF, Literal\n",
        "from rdflib.namespace import XSD, GEO, OWL\n",
        "from pyshacl import validate\n",
        "from pyshex import ShExEvaluator"
      ],
      "metadata": {
        "id": "1bLSXNUVWeFP"
      },
      "execution_count": null,
      "outputs": []
    },
    {
      "cell_type": "code",
      "source": [
        "# Rutas a los archivos en Google Drive\n",
        "output_rdf_path = '/content/drive/My Drive/output_SchoolsDurham.rdf'\n",
        "shex_file_path = '/content/drive/My Drive/schemaSchoolsDurham.shex'  # Ruta para el esquema ShEx\n",
        "shacl_file_path = '/content/drive/My Drive/schemaSchoolsDurham.shacl'  # Ruta para el esquema SHACL\n"
      ],
      "metadata": {
        "id": "Ox72dM3cWB2v"
      },
      "execution_count": null,
      "outputs": []
    },
    {
      "cell_type": "code",
      "source": [
        "# Definir el contenido del esquema ShEx\n",
        "shex_content = \"\"\"\n",
        "PREFIX ex: <http://example.org/schools#>\n",
        "PREFIX geo: <http://www.w3.org/2003/01/geo/wgs84_pos#>\n",
        "PREFIX xsd: <http://www.w3.org/2001/XMLSchema#>\n",
        "PREFIX owl: <http://www.w3.org/2002/07/owl#>\n",
        "\n",
        "START = @<SchoolShape>\n",
        "\n",
        "<SchoolShape> {\n",
        "    a [ex:School] ;\n",
        "    ex:name xsd:string ;\n",
        "    ex:address1 xsd:string ;\n",
        "    ex:address2 xsd:string ;\n",
        "    ex:address3 xsd:string? ;\n",
        "    ex:postcode xsd:string ;\n",
        "    ex:easting xsd:decimal ;\n",
        "    ex:northing xsd:decimal ;\n",
        "    ex:lat xsd:decimal ;\n",
        "    ex:long xsd:decimal ;\n",
        "}\n",
        "\"\"\"\n",
        "\n",
        "# Guardar el esquema ShEx en Google Drive\n",
        "with open(shex_path, 'w', encoding='utf-8') as f:\n",
        "    f.write(shex_content)\n",
        "\n",
        "print(f\"Esquema ShEx guardado en: {shex_path}\")"
      ],
      "metadata": {
        "colab": {
          "base_uri": "https://localhost:8080/"
        },
        "id": "jLaHWduCWcwR",
        "outputId": "2dd45ac9-db9e-4337-e1cb-8e76140949e2"
      },
      "execution_count": null,
      "outputs": [
        {
          "output_type": "stream",
          "name": "stdout",
          "text": [
            "Esquema ShEx guardado en: /content/drive/My Drive/schemaSchoolsDurham.shex\n"
          ]
        }
      ]
    },
    {
      "cell_type": "code",
      "source": [
        "# Definir el contenido del esquema SHACL\n",
        "shacl_content = \"\"\"\n",
        "@prefix sh: <http://www.w3.org/ns/shacl#> .\n",
        "@prefix ex: <http://example.org/schools#> .\n",
        "@prefix xsd: <http://www.w3.org/2001/XMLSchema#> .\n",
        "@prefix geo: <http://www.w3.org/2003/01/geo/wgs84_pos#> .\n",
        "\n",
        "ex:SchoolShape a sh:NodeShape ;\n",
        "    sh:targetClass ex:School ;\n",
        "    sh:property [\n",
        "        sh:path ex:name ;\n",
        "        sh:datatype xsd:string ;\n",
        "        sh:minCount 1 ;\n",
        "    ] ;\n",
        "    sh:property [\n",
        "        sh:path ex:address1 ;\n",
        "        sh:datatype xsd:string ;\n",
        "        sh:minCount 1 ;\n",
        "    ] ;\n",
        "    sh:property [\n",
        "        sh:path ex:address2 ;\n",
        "        sh:datatype xsd:string ;\n",
        "        sh:minCount 1 ;\n",
        "    ] ;\n",
        "    sh:property [\n",
        "        sh:path ex:address3 ;\n",
        "        sh:datatype xsd:string ;\n",
        "        sh:optional true ;\n",
        "    ] ;\n",
        "    sh:property [\n",
        "        sh:path ex:postcode ;\n",
        "        sh:datatype xsd:string ;\n",
        "        sh:minCount 1 ;\n",
        "    ] ;\n",
        "    sh:property [\n",
        "        sh:path ex:easting ;\n",
        "        sh:datatype xsd:decimal ;\n",
        "        sh:minCount 1 ;\n",
        "    ] ;\n",
        "    sh:property [\n",
        "        sh:path ex:northing ;\n",
        "        sh:datatype xsd:decimal ;\n",
        "        sh:minCount 1 ;\n",
        "    ] ;\n",
        "    sh:property [\n",
        "        sh:path ex:lat ;\n",
        "        sh:datatype xsd:decimal ;\n",
        "        sh:minCount 1 ;\n",
        "        sh:minInclusive -90 ;\n",
        "        sh:maxInclusive 90 ;\n",
        "    ] ;\n",
        "    sh:property [\n",
        "        sh:path ex:long ;\n",
        "        sh:datatype xsd:decimal ;\n",
        "        sh:minCount 1 ;\n",
        "        sh:minInclusive -180 ;\n",
        "        sh:maxInclusive 180 ;\n",
        "    ] .\n",
        "\"\"\"\n",
        "\n",
        "# Guardar el esquema SHACL en Google Drive\n",
        "with open(shacl_file_path, 'w', encoding='utf-8') as f:\n",
        "    f.write(shacl_content)\n",
        "\n",
        "print(f\"Esquema SHACL guardado en: {shacl_file_path}\")"
      ],
      "metadata": {
        "colab": {
          "base_uri": "https://localhost:8080/"
        },
        "id": "NTQANoy1Wuar",
        "outputId": "3914ef85-10da-41ce-e8a9-f81c8fb2e9cb"
      },
      "execution_count": null,
      "outputs": [
        {
          "output_type": "stream",
          "name": "stdout",
          "text": [
            "Esquema SHACL guardado en: /content/drive/My Drive/schemaSchoolsDurham.shacl\n"
          ]
        }
      ]
    },
    {
      "cell_type": "code",
      "source": [
        "from pyshex import ShExEvaluator\n",
        "from rdflib import Graph, Namespace, RDF\n",
        "\n",
        "# Rutas de los archivos\n",
        "rdf_path = '/content/drive/My Drive/output_SchoolsDurham.rdf'\n",
        "shex_path = '/content/drive/My Drive/schemaSchoolsDurham.shex'\n",
        "# Leer RDF y ShEx\n",
        "with open(rdf_path, \"r\", encoding=\"utf-8\") as rdf_file:\n",
        "    rdf_data = rdf_file.read()\n",
        "\n",
        "with open(shex_path, \"r\", encoding=\"utf-8\") as shex_file:\n",
        "    shex_schema = shex_file.read()\n",
        "\n",
        "# Definir el Namespace\n",
        "EX = Namespace(\"http://example.org/schools#\")\n",
        "\n",
        "# Cargar RDF en rdflib para extraer las instancias\n",
        "g = Graph()\n",
        "try:\n",
        "    g.parse(rdf_path, format='turtle')  # Ajusta el formato si es necesario\n",
        "    print(\"RDF cargado correctamente.\")\n",
        "except Exception as e:\n",
        "    print(f\"Error al cargar el RDF: {e}\")\n",
        "\n",
        "# Listar todas las instancias de ex:School\n",
        "instances = list(g.subjects(RDF.type, EX.School))\n",
        "print(f\"Total de instancias encontradas: {len(instances)}\")\n",
        "\n",
        "if len(instances) == 0:\n",
        "    print(\"No se encontraron instancias de ex:School en el RDF. Verifica el Namespace y el contenido del RDF.\")\n",
        "else:\n",
        "    # Inicializar el evaluador ShEx\n",
        "    try:\n",
        "        evaluator = ShExEvaluator(rdf=rdf_data, schema=shex_schema, debug=False)\n",
        "        print(\"Evaluador ShEx inicializado correctamente.\")\n",
        "    except Exception as e:\n",
        "        print(f\"Error al inicializar el evaluador ShEx: {e}\")\n",
        "\n",
        "    # Validar cada instancia individualmente\n",
        "    for instance in instances[:10]:  # Puedes eliminar [:10] para validar todas las instancias\n",
        "        instance_str = str(instance)  # Convertir a string para pyshex\n",
        "        try:\n",
        "            results = evaluator.evaluate(\n",
        "                focus=instance_str  # Nodo a evaluar\n",
        "                # No es necesario especificar 'start' ya que está definido en el esquema ShEx\n",
        "            )\n",
        "\n",
        "            for result in results:\n",
        "                conformidad = \"Sí\" if result.result else \"No\"\n",
        "                print(f\"Conformidad: {conformidad}, Nodo: {result.focus}\")\n",
        "                # Acceder a 'reason' para obtener detalles de la validación\n",
        "                if result.reason:\n",
        "                    print(f\"Razones: {result.reason}\\n\")\n",
        "                else:\n",
        "                    print(\"No se proporcionaron razones adicionales.\\n\")\n",
        "        except Exception as e:\n",
        "            print(f\"Error al evaluar el nodo {instance_str}: {e}\")\n",
        "\n",
        "    # Opcional: Validar una instancia específica para diagnóstico\n",
        "    if len(instances) > 0:\n",
        "        test_instance = instances[0]\n",
        "        print(f\"Validando la instancia de prueba: {test_instance}\")\n",
        "\n",
        "        try:\n",
        "            results = evaluator.evaluate(\n",
        "                focus=str(test_instance)\n",
        "                # No es necesario especificar 'start' ya que está definido en el esquema ShEx\n",
        "            )\n",
        "\n",
        "            for result in results:\n",
        "                conformidad = \"Sí\" if result.result else \"No\"\n",
        "                print(f\"Conformidad: {conformidad}, Nodo: {result.focus}\")\n",
        "                # Acceder a 'reason' para obtener detalles de la validación\n",
        "                if result.reason:\n",
        "                    print(f\"Razones: {result.reason}\\n\")\n",
        "                else:\n",
        "                    print(\"No se proporcionaron razones adicionales.\\n\")\n",
        "        except Exception as e:\n",
        "            print(f\"Error al evaluar la instancia de prueba {test_instance}: {e}\")"
      ],
      "metadata": {
        "colab": {
          "base_uri": "https://localhost:8080/"
        },
        "id": "qVfjduoaWvv4",
        "outputId": "b3784597-c035-4213-8c14-ff20ae272677"
      },
      "execution_count": null,
      "outputs": [
        {
          "output_type": "stream",
          "name": "stdout",
          "text": [
            "RDF cargado correctamente.\n",
            "Total de instancias encontradas: 267\n",
            "Evaluador ShEx inicializado correctamente.\n",
            "Conformidad: Sí, Nodo: http://example.org/schools#School_1\n",
            "No se proporcionaron razones adicionales.\n",
            "\n",
            "Conformidad: Sí, Nodo: http://example.org/schools#School_2\n",
            "No se proporcionaron razones adicionales.\n",
            "\n",
            "Conformidad: Sí, Nodo: http://example.org/schools#School_3\n",
            "No se proporcionaron razones adicionales.\n",
            "\n",
            "Conformidad: Sí, Nodo: http://example.org/schools#School_4\n",
            "No se proporcionaron razones adicionales.\n",
            "\n",
            "Conformidad: Sí, Nodo: http://example.org/schools#School_5\n",
            "No se proporcionaron razones adicionales.\n",
            "\n",
            "Conformidad: Sí, Nodo: http://example.org/schools#School_6\n",
            "No se proporcionaron razones adicionales.\n",
            "\n",
            "Conformidad: Sí, Nodo: http://example.org/schools#School_7\n",
            "No se proporcionaron razones adicionales.\n",
            "\n",
            "Conformidad: Sí, Nodo: http://example.org/schools#School_8\n",
            "No se proporcionaron razones adicionales.\n",
            "\n",
            "Conformidad: Sí, Nodo: http://example.org/schools#School_9\n",
            "No se proporcionaron razones adicionales.\n",
            "\n",
            "Conformidad: Sí, Nodo: http://example.org/schools#School_10\n",
            "No se proporcionaron razones adicionales.\n",
            "\n",
            "Validando la instancia de prueba: http://example.org/schools#School_1\n",
            "Conformidad: Sí, Nodo: http://example.org/schools#School_1\n",
            "No se proporcionaron razones adicionales.\n",
            "\n"
          ]
        }
      ]
    },
    {
      "cell_type": "code",
      "source": [
        "# Cargar el RDF\n",
        "g = Graph()\n",
        "g.parse(output_rdf_path, format='turtle')\n",
        "\n",
        "# Realizar la validación SHACL\n",
        "conforms, results_graph, results_text = validate(\n",
        "    data_graph=g,\n",
        "    shacl_graph=shacl_file_path,\n",
        "    ont_graph=None,\n",
        "    inference='rdfs',\n",
        "    abort_on_first=False,       # Reemplazado de abort_on_error a abort_on_first\n",
        "    meta_shacl=False,\n",
        "    debug=False\n",
        ")\n",
        "\n",
        "# Mostrar si los datos cumplen con el esquema SHACL\n",
        "print(f\"Conforma con el esquema SHACL: {conforms}\\n\")\n",
        "\n",
        "# Mostrar el reporte de resultados\n",
        "print(\"Reporte de Validación SHACL:\")\n",
        "print(results_text)"
      ],
      "metadata": {
        "colab": {
          "base_uri": "https://localhost:8080/"
        },
        "id": "z_cLYTTlX8CO",
        "outputId": "908c306c-3349-47a6-c676-5817b385a248"
      },
      "execution_count": null,
      "outputs": [
        {
          "output_type": "stream",
          "name": "stdout",
          "text": [
            "Conforma con el esquema SHACL: True\n",
            "\n",
            "Reporte de Validación SHACL:\n",
            "Validation Report\n",
            "Conforms: True\n",
            "\n"
          ]
        }
      ]
    },
    {
      "cell_type": "markdown",
      "source": [],
      "metadata": {
        "id": "sVrTn6j4WWn6"
      }
    }
  ],
  "metadata": {
    "colab": {
      "provenance": [],
      "authorship_tag": "ABX9TyO9kJh54BI746+rlkQsnCoQ",
      "include_colab_link": true
    },
    "kernelspec": {
      "display_name": "Python 3",
      "name": "python3"
    },
    "language_info": {
      "name": "python"
    }
  },
  "nbformat": 4,
  "nbformat_minor": 0
}