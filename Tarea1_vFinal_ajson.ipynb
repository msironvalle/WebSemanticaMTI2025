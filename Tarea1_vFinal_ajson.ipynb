{
  "nbformat": 4,
  "nbformat_minor": 0,
  "metadata": {
    "colab": {
      "provenance": [],
      "include_colab_link": true
    },
    "kernelspec": {
      "name": "python3",
      "display_name": "Python 3"
    },
    "language_info": {
      "name": "python"
    }
  },
  "cells": [
    {
      "cell_type": "markdown",
      "metadata": {
        "id": "view-in-github",
        "colab_type": "text"
      },
      "source": [
        "<a href=\"https://colab.research.google.com/github/msironvalle/WebSemanticaMTI2025/blob/main/Tarea1_vFinal_ajson.ipynb\" target=\"_parent\"><img src=\"https://colab.research.google.com/assets/colab-badge.svg\" alt=\"Open In Colab\"/></a>"
      ]
    },
    {
      "cell_type": "code",
      "source": [
        "from google.colab import drive\n",
        "drive.mount('/content/drive')"
      ],
      "metadata": {
        "colab": {
          "base_uri": "https://localhost:8080/"
        },
        "id": "HalCmPWI78gT",
        "outputId": "d5eea89f-5d0b-48c3-bbb7-a8a9aec78645"
      },
      "execution_count": null,
      "outputs": [
        {
          "output_type": "stream",
          "name": "stdout",
          "text": [
            "Mounted at /content/drive\n"
          ]
        }
      ]
    },
    {
      "cell_type": "code",
      "source": [
        "!pip install rdflib pyshex"
      ],
      "metadata": {
        "colab": {
          "base_uri": "https://localhost:8080/"
        },
        "id": "ywWJS4gd8Gn0",
        "outputId": "be85716e-866b-4c7a-b1b9-30f402d13177"
      },
      "execution_count": null,
      "outputs": [
        {
          "output_type": "stream",
          "name": "stdout",
          "text": [
            "Collecting rdflib\n",
            "  Downloading rdflib-7.1.3-py3-none-any.whl.metadata (11 kB)\n",
            "Collecting pyshex\n",
            "  Downloading PyShEx-0.8.1-py3-none-any.whl.metadata (1.0 kB)\n",
            "Requirement already satisfied: pyparsing<4,>=2.1.0 in /usr/local/lib/python3.11/dist-packages (from rdflib) (3.2.1)\n",
            "Collecting cfgraph>=0.2.1 (from pyshex)\n",
            "  Downloading CFGraph-0.2.1.tar.gz (2.6 kB)\n",
            "  Preparing metadata (setup.py) ... \u001b[?25l\u001b[?25hdone\n",
            "Requirement already satisfied: chardet in /usr/local/lib/python3.11/dist-packages (from pyshex) (5.2.0)\n",
            "Collecting pyshexc==0.9.1 (from pyshex)\n",
            "  Downloading PyShExC-0.9.1-py2.py3-none-any.whl.metadata (940 bytes)\n",
            "Collecting rdflib-shim (from pyshex)\n",
            "  Downloading rdflib_shim-1.0.3-py3-none-any.whl.metadata (918 bytes)\n",
            "Requirement already satisfied: requests>=2.22.0 in /usr/local/lib/python3.11/dist-packages (from pyshex) (2.32.3)\n",
            "Collecting shexjsg>=0.8.2 (from pyshex)\n",
            "  Downloading ShExJSG-0.8.2-py2.py3-none-any.whl.metadata (997 bytes)\n",
            "Collecting sparqlslurper>=0.5.1 (from pyshex)\n",
            "  Downloading sparqlslurper-0.5.1-py3-none-any.whl.metadata (430 bytes)\n",
            "Collecting sparqlwrapper>=1.8.5 (from pyshex)\n",
            "  Downloading SPARQLWrapper-2.0.0-py3-none-any.whl.metadata (2.0 kB)\n",
            "Requirement already satisfied: urllib3 in /usr/local/lib/python3.11/dist-packages (from pyshex) (2.3.0)\n",
            "Collecting antlr4-python3-runtime~=4.9.3 (from pyshexc==0.9.1->pyshex)\n",
            "  Downloading antlr4-python3-runtime-4.9.3.tar.gz (117 kB)\n",
            "\u001b[2K     \u001b[90m━━━━━━━━━━━━━━━━━━━━━━━━━━━━━━━━━━━━━━━━\u001b[0m \u001b[32m117.0/117.0 kB\u001b[0m \u001b[31m3.3 MB/s\u001b[0m eta \u001b[36m0:00:00\u001b[0m\n",
            "\u001b[?25h  Preparing metadata (setup.py) ... \u001b[?25l\u001b[?25hdone\n",
            "Collecting jsonasobj>=1.2.1 (from pyshexc==0.9.1->pyshex)\n",
            "  Downloading jsonasobj-1.3.1-py3-none-any.whl.metadata (995 bytes)\n",
            "Collecting pyjsg>=0.11.10 (from pyshexc==0.9.1->pyshex)\n",
            "  Downloading PyJSG-0.11.10-py3-none-any.whl.metadata (978 bytes)\n",
            "Requirement already satisfied: charset-normalizer<4,>=2 in /usr/local/lib/python3.11/dist-packages (from requests>=2.22.0->pyshex) (3.4.1)\n",
            "Requirement already satisfied: idna<4,>=2.5 in /usr/local/lib/python3.11/dist-packages (from requests>=2.22.0->pyshex) (3.10)\n",
            "Requirement already satisfied: certifi>=2017.4.17 in /usr/local/lib/python3.11/dist-packages (from requests>=2.22.0->pyshex) (2024.12.14)\n",
            "Collecting rdflib-jsonld==0.6.1 (from rdflib-shim->pyshex)\n",
            "  Downloading rdflib_jsonld-0.6.1-py2.py3-none-any.whl.metadata (3.4 kB)\n",
            "Downloading rdflib-7.1.3-py3-none-any.whl (564 kB)\n",
            "\u001b[2K   \u001b[90m━━━━━━━━━━━━━━━━━━━━━━━━━━━━━━━━━━━━━━━━\u001b[0m \u001b[32m564.9/564.9 kB\u001b[0m \u001b[31m14.3 MB/s\u001b[0m eta \u001b[36m0:00:00\u001b[0m\n",
            "\u001b[?25hDownloading PyShEx-0.8.1-py3-none-any.whl (51 kB)\n",
            "\u001b[2K   \u001b[90m━━━━━━━━━━━━━━━━━━━━━━━━━━━━━━━━━━━━━━━━\u001b[0m \u001b[32m51.9/51.9 kB\u001b[0m \u001b[31m3.1 MB/s\u001b[0m eta \u001b[36m0:00:00\u001b[0m\n",
            "\u001b[?25hDownloading PyShExC-0.9.1-py2.py3-none-any.whl (69 kB)\n",
            "\u001b[2K   \u001b[90m━━━━━━━━━━━━━━━━━━━━━━━━━━━━━━━━━━━━━━━━\u001b[0m \u001b[32m69.8/69.8 kB\u001b[0m \u001b[31m5.0 MB/s\u001b[0m eta \u001b[36m0:00:00\u001b[0m\n",
            "\u001b[?25hDownloading ShExJSG-0.8.2-py2.py3-none-any.whl (14 kB)\n",
            "Downloading sparqlslurper-0.5.1-py3-none-any.whl (6.6 kB)\n",
            "Downloading SPARQLWrapper-2.0.0-py3-none-any.whl (28 kB)\n",
            "Downloading rdflib_shim-1.0.3-py3-none-any.whl (5.2 kB)\n",
            "Downloading rdflib_jsonld-0.6.1-py2.py3-none-any.whl (16 kB)\n",
            "Downloading jsonasobj-1.3.1-py3-none-any.whl (4.4 kB)\n",
            "Downloading PyJSG-0.11.10-py3-none-any.whl (80 kB)\n",
            "\u001b[2K   \u001b[90m━━━━━━━━━━━━━━━━━━━━━━━━━━━━━━━━━━━━━━━━\u001b[0m \u001b[32m80.8/80.8 kB\u001b[0m \u001b[31m5.4 MB/s\u001b[0m eta \u001b[36m0:00:00\u001b[0m\n",
            "\u001b[?25hBuilding wheels for collected packages: cfgraph, antlr4-python3-runtime\n",
            "  Building wheel for cfgraph (setup.py) ... \u001b[?25l\u001b[?25hdone\n",
            "  Created wheel for cfgraph: filename=CFGraph-0.2.1-py3-none-any.whl size=2214 sha256=142679b075724baf8259c100e1c8488d9dcc61907f29348c37b6ebc51b5f09a6\n",
            "  Stored in directory: /root/.cache/pip/wheels/8b/ac/8f/0f5b041561f10e6db39796e4ad11011b8f5a4b0a0ed74a5e61\n",
            "  Building wheel for antlr4-python3-runtime (setup.py) ... \u001b[?25l\u001b[?25hdone\n",
            "  Created wheel for antlr4-python3-runtime: filename=antlr4_python3_runtime-4.9.3-py3-none-any.whl size=144555 sha256=ee6db227899f399e24ea02303c5b769d32bbd79343dc98fabc483786083824f9\n",
            "  Stored in directory: /root/.cache/pip/wheels/1a/97/32/461f837398029ad76911109f07047fde1d7b661a147c7c56d1\n",
            "Successfully built cfgraph antlr4-python3-runtime\n",
            "Installing collected packages: jsonasobj, antlr4-python3-runtime, rdflib, pyjsg, sparqlwrapper, shexjsg, rdflib-jsonld, cfgraph, rdflib-shim, sparqlslurper, pyshexc, pyshex\n",
            "Successfully installed antlr4-python3-runtime-4.9.3 cfgraph-0.2.1 jsonasobj-1.3.1 pyjsg-0.11.10 pyshex-0.8.1 pyshexc-0.9.1 rdflib-7.1.3 rdflib-jsonld-0.6.1 rdflib-shim-1.0.3 shexjsg-0.8.2 sparqlslurper-0.5.1 sparqlwrapper-2.0.0\n"
          ]
        }
      ]
    },
    {
      "cell_type": "code",
      "source": [
        "import json\n",
        "import os\n",
        "import decimal\n",
        "from rdflib import Graph, Literal, RDF, URIRef, Namespace\n",
        "from rdflib.namespace import XSD, FOAF, DC, OWL\n",
        "from pyshex import ShExEvaluator"
      ],
      "metadata": {
        "id": "UFzR0a2w8IM9"
      },
      "execution_count": null,
      "outputs": []
    },
    {
      "cell_type": "code",
      "source": [
        "# Definir la ruta al archivo .ajson en Google Drive\n",
        "file_path = '/content/drive/My Drive/PasosFronterizos.ajson'\n",
        "\n",
        "# Verificar si el archivo existe\n",
        "if not os.path.exists(file_path):\n",
        "    raise FileNotFoundError(f\"El archivo {file_path} no se encuentra. Por favor, verifica la ruta.\")\n"
      ],
      "metadata": {
        "id": "FbwpCO4L8KiJ"
      },
      "execution_count": null,
      "outputs": []
    },
    {
      "cell_type": "code",
      "source": [
        "# Leer y parsear el archivo .ajson\n",
        "with open(file_path, 'r', encoding='utf-8') as f:\n",
        "    data = json.load(f)\n",
        "\n",
        "# Verificar la estructura del JSON\n",
        "if not isinstance(data, list) or len(data) < 2:\n",
        "    raise ValueError(\"El archivo .ajson debe ser una lista de listas con al menos una fila de encabezados y una fila de datos.\")\n",
        "\n",
        "headers = data[0]  # Primera fila: encabezados\n",
        "rows = data[1:]    # Filas restantes: datos"
      ],
      "metadata": {
        "id": "oaFDKwrO8SW6"
      },
      "execution_count": null,
      "outputs": []
    },
    {
      "cell_type": "code",
      "execution_count": null,
      "metadata": {
        "colab": {
          "base_uri": "https://localhost:8080/"
        },
        "id": "2YzADwBb7Yoe",
        "outputId": "4616a0a6-360b-4852-9cc3-bd6c063bf169"
      },
      "outputs": [
        {
          "output_type": "stream",
          "name": "stdout",
          "text": [
            "Archivo RDF guardado en: /content/drive/My Drive/output_PasosFronterizos_6.rdf\n"
          ]
        }
      ],
      "source": [
        "# Definir los prefijos\n",
        "rdf_prefixes = \"\"\"\n",
        "@prefix ex: <http://example.org/pasos_fronterizos#> .\n",
        "@prefix geo: <http://www.w3.org/2003/01/geo/wgs84_pos#> .\n",
        "@prefix owl: <http://www.w3.org/2002/07/owl#> .\n",
        "@prefix xsd: <http://www.w3.org/2001/XMLSchema#> .\n",
        "\n",
        "\"\"\"\n",
        "\n",
        "# Definir la clase\n",
        "rdf_class = \"ex:PasoFronterizo a owl:Class .\\n\\n\"\n",
        "\n",
        "# Construir las instancias\n",
        "rdf_instances = \"\"\n",
        "for idx, row in enumerate(rows, start=1):\n",
        "    # Asegurarse de que cada fila tenga exactamente 6 elementos\n",
        "    if len(row) != 6:\n",
        "        print(f\"Advertencia: La fila {idx} no tiene 6 elementos y será omitida.\")\n",
        "        continue\n",
        "\n",
        "    nombre = row[0].replace('\"', '\\\\\"')\n",
        "    region = row[1].replace('\"', '\\\\\"')\n",
        "    altura = row[2].replace(\",\", \".\")\n",
        "    unidad = row[3].replace('\"', '\\\\\"')\n",
        "    latitud = row[4].replace(\",\", \".\")\n",
        "    longitud = row[5].replace(\",\", \".\")\n",
        "\n",
        "    # Crear la instancia en Turtle\n",
        "    instance = f\"\"\"ex:PasoFronterizo_{idx} a ex:PasoFronterizo ;\n",
        "    ex:altura \"{altura}\"^^xsd:integer ;\n",
        "    ex:nombre \"{nombre}\" ;\n",
        "    ex:region \"{region}\" ;\n",
        "    ex:unidad \"{unidad}\" ;\n",
        "    geo:lat \"{latitud}\"^^xsd:decimal ;\n",
        "    geo:long \"{longitud}\"^^xsd:decimal .\n",
        "\n",
        "\"\"\"\n",
        "    rdf_instances += instance\n",
        "\n",
        "# Combinar todo\n",
        "rdf_complete = rdf_prefixes + rdf_class + rdf_instances\n",
        "\n",
        "\n",
        "# Guardar el RDF en un archivo\n",
        "output_path = '/content/drive/My Drive/output_PasosFronterizos_6.rdf'\n",
        "with open(output_path, \"w\", encoding='utf-8') as f:\n",
        "    f.write(rdf_complete)\n",
        "\n",
        "print(f\"Archivo RDF guardado en: {output_path}\")"
      ]
    },
    {
      "cell_type": "markdown",
      "source": [],
      "metadata": {
        "id": "8Eol-tQT97dc"
      }
    },
    {
      "cell_type": "markdown",
      "source": [
        "XML"
      ],
      "metadata": {
        "id": "lqTNzHDU97hh"
      }
    },
    {
      "cell_type": "code",
      "source": [
        "import os\n",
        "import xml.etree.ElementTree as ET\n",
        "import decimal\n",
        "from pyshex import ShExEvaluator\n",
        "from rdflib import Graph, Namespace, RDF\n"
      ],
      "metadata": {
        "id": "txII0AYB98fQ"
      },
      "execution_count": null,
      "outputs": []
    },
    {
      "cell_type": "code",
      "source": [
        "# Definir la ruta al archivo XML en Google Drive\n",
        "xml_file_path = '/content/drive/My Drive/PoblaciondeChile.xml'\n",
        "\n",
        "# Verificar si el archivo existe\n",
        "if not os.path.exists(xml_file_path):\n",
        "    raise FileNotFoundError(f\"El archivo {xml_file_path} no se encuentra. Por favor, verifica la ruta.\")"
      ],
      "metadata": {
        "id": "7ZIl-Du2-A2H"
      },
      "execution_count": null,
      "outputs": []
    },
    {
      "cell_type": "code",
      "source": [
        "# Parsear el archivo XML\n",
        "tree = ET.parse(xml_file_path)\n",
        "root = tree.getroot()\n",
        "\n",
        "# Verificar que la raíz sea <table>\n",
        "if root.tag != 'table':\n",
        "    raise ValueError(\"El archivo XML no tiene una estructura válida. Se espera que la raíz sea <table>.\")\n",
        "\n",
        "# Extraer todas las filas\n",
        "rows = root.findall('row')\n",
        "\n",
        "# Verificar que haya al menos una fila de encabezados y una fila de datos\n",
        "if len(rows) < 2:\n",
        "    raise ValueError(\"El archivo XML debe contener al menos una fila de encabezados y una fila de datos.\")\n",
        "\n",
        "# Extraer encabezados de la primera fila\n",
        "header_row = rows[0]\n",
        "headers = [col.text.strip() for col in header_row.findall('column')]\n",
        "\n",
        "# Extraer datos de las filas restantes\n",
        "data_rows = []\n",
        "for row in rows[1:]:\n",
        "    columns = [col.text.strip() for col in row.findall('column')]\n",
        "    if len(columns) != len(headers):\n",
        "        print(f\"Advertencia: La fila con datos {columns} no tiene el mismo número de columnas que los encabezados y será omitida.\")\n",
        "        continue\n",
        "    data_rows.append(columns)\n",
        "\n",
        "# Mostrar las cabeceras y algunas filas de datos para verificar\n",
        "print(\"Encabezados:\", headers)\n",
        "print(\"Primeras 5 filas de datos:\")\n",
        "for row in data_rows[:5]:\n",
        "    print(row)"
      ],
      "metadata": {
        "colab": {
          "base_uri": "https://localhost:8080/"
        },
        "id": "qvLHejcC-S1E",
        "outputId": "70cf4f5b-73f8-490e-a1cd-c480a502b506"
      },
      "execution_count": null,
      "outputs": [
        {
          "output_type": "stream",
          "name": "stdout",
          "text": [
            "Encabezados: ['REGIÓN', 'EDAD', 'GÉNERO', 'POBLACIÓN', 'AÑO']\n",
            "Primeras 5 filas de datos:\n",
            "['Tarapacá', '0', 'Hombres', '2.960', '2012']\n",
            "['Tarapacá', '1', 'Hombres', '2.974', '2012']\n",
            "['Tarapacá', '2', 'Hombres', '2.916', '2012']\n",
            "['Tarapacá', '3', 'Hombres', '2.847', '2012']\n",
            "['Tarapacá', '4', 'Hombres', '2.681', '2012']\n"
          ]
        }
      ]
    },
    {
      "cell_type": "code",
      "source": [
        "# Definir Namespaces\n",
        "ex_namespace = \"http://example.org/poblacion#\"\n",
        "geo_namespace = \"http://www.w3.org/2003/01/geo/wgs84_pos#\"\n",
        "\n",
        "# Definir el mapeo de encabezados a propiedades RDF\n",
        "header_mapping = {\n",
        "    \"REGIÓN\": \"region\",\n",
        "    \"EDAD\": \"edad\",\n",
        "    \"GÉNERO\": \"genero\",\n",
        "    \"POBLACIÓN\": \"poblacion\",\n",
        "    \"AÑO\": \"ano\"\n",
        "}\n",
        "\n",
        "# Definir los tipos de datos para cada propiedad\n",
        "datatype_mapping = {\n",
        "    \"REGIÓN\": \"xsd:string\",\n",
        "    \"EDAD\": \"xsd:string\",\n",
        "    \"GÉNERO\": \"xsd:string\",\n",
        "    \"POBLACIÓN\": \"xsd:decimal\",\n",
        "    \"AÑO\": \"xsd:integer\"\n",
        "}"
      ],
      "metadata": {
        "id": "Twel9qt2-WvK"
      },
      "execution_count": null,
      "outputs": []
    },
    {
      "cell_type": "code",
      "source": [
        "# Iniciar la cadena RDF con los prefijos\n",
        "rdf_prefixes = f\"\"\"\n",
        "@prefix ex: <{ex_namespace}> .\n",
        "@prefix geo: <{geo_namespace}> .\n",
        "@prefix xsd: <http://www.w3.org/2001/XMLSchema#> .\n",
        "@prefix owl: <http://www.w3.org/2002/07/owl#> .\n",
        "\n",
        "\"\"\"\n",
        "\n",
        "# Definir la clase PopulationData\n",
        "rdf_class = \"ex:PopulationData a owl:Class .\\n\\n\"\n",
        "\n",
        "# Construir las instancias\n",
        "rdf_instances = \"\"\n",
        "for idx, row in enumerate(data_rows, start=1):\n",
        "    region = row[0].replace('\"', '\\\\\"')\n",
        "    edad = row[1]\n",
        "    genero = row[2].replace('\"', '\\\\\"')\n",
        "    # Eliminar los puntos que actúan como separadores de miles\n",
        "    poblacion = row[3].replace(\".\", \"\")\n",
        "    ano = row[4]\n",
        "\n",
        "    # Crear la instancia en Turtle\n",
        "    instance = f\"\"\"ex:PopulationData_{idx} a ex:PopulationData ;\n",
        "ex:region \"{region}\"^^xsd:string ;\n",
        "ex:edad \"{edad}\"^^xsd:string ;\n",
        "ex:genero \"{genero}\"^^xsd:string ;\n",
        "ex:poblacion \"{poblacion}\"^^xsd:integer ;\n",
        "ex:ano \"{ano}\"^^xsd:integer .\n",
        "\n",
        "\"\"\"\n",
        "    rdf_instances += instance\n",
        "\n",
        "# Combinar todo\n",
        "rdf_complete = rdf_prefixes + rdf_class + rdf_instances\n",
        "\n",
        "# Mostrar una parte del RDF generado para verificar\n",
        "print(rdf_complete[:1000])  # Imprime los primeros 1000 caracteres\n"
      ],
      "metadata": {
        "colab": {
          "base_uri": "https://localhost:8080/"
        },
        "id": "KCC6oNgJ-bYX",
        "outputId": "bba3ca66-0e6a-4b7d-f638-be62b4455f9f"
      },
      "execution_count": null,
      "outputs": [
        {
          "output_type": "stream",
          "name": "stdout",
          "text": [
            "\n",
            "@prefix ex: <http://example.org/poblacion#> .\n",
            "@prefix geo: <http://www.w3.org/2003/01/geo/wgs84_pos#> .\n",
            "@prefix xsd: <http://www.w3.org/2001/XMLSchema#> .\n",
            "@prefix owl: <http://www.w3.org/2002/07/owl#> .\n",
            "\n",
            "ex:PopulationData a owl:Class .\n",
            "\n",
            "ex:PopulationData_1 a ex:PopulationData ;\n",
            "ex:region \"Tarapacá\"^^xsd:string ;\n",
            "ex:edad \"0\"^^xsd:string ;\n",
            "ex:genero \"Hombres\"^^xsd:string ;\n",
            "ex:poblacion \"2960\"^^xsd:integer ;\n",
            "ex:ano \"2012\"^^xsd:integer .\n",
            "\n",
            "ex:PopulationData_2 a ex:PopulationData ;\n",
            "ex:region \"Tarapacá\"^^xsd:string ;\n",
            "ex:edad \"1\"^^xsd:string ;\n",
            "ex:genero \"Hombres\"^^xsd:string ;\n",
            "ex:poblacion \"2974\"^^xsd:integer ;\n",
            "ex:ano \"2012\"^^xsd:integer .\n",
            "\n",
            "ex:PopulationData_3 a ex:PopulationData ;\n",
            "ex:region \"Tarapacá\"^^xsd:string ;\n",
            "ex:edad \"2\"^^xsd:string ;\n",
            "ex:genero \"Hombres\"^^xsd:string ;\n",
            "ex:poblacion \"2916\"^^xsd:integer ;\n",
            "ex:ano \"2012\"^^xsd:integer .\n",
            "\n",
            "ex:PopulationData_4 a ex:PopulationData ;\n",
            "ex:region \"Tarapacá\"^^xsd:string ;\n",
            "ex:edad \"3\"^^xsd:string ;\n",
            "ex:genero \"Hombres\"^^xsd:string ;\n",
            "ex:poblacion \"2847\"\n"
          ]
        }
      ]
    },
    {
      "cell_type": "code",
      "source": [
        "# Definir la ruta para guardar el archivo RDF en Drive\n",
        "output_rdf_path = '/content/drive/My Drive/output_Poblacion_2.rdf'\n",
        "\n",
        "# Guardar el archivo RDF en modo de texto\n",
        "with open(output_rdf_path, \"w\", encoding='utf-8') as f:\n",
        "    f.write(rdf_complete)\n",
        "\n",
        "print(f\"Archivo RDF guardado en: {output_rdf_path}\")"
      ],
      "metadata": {
        "colab": {
          "base_uri": "https://localhost:8080/"
        },
        "id": "xqNmjsNh-fR2",
        "outputId": "6ca554fb-8676-4a93-83b4-e74944802d73"
      },
      "execution_count": null,
      "outputs": [
        {
          "output_type": "stream",
          "name": "stdout",
          "text": [
            "Archivo RDF guardado en: /content/drive/My Drive/output_Poblacion_2.rdf\n"
          ]
        }
      ]
    },
    {
      "cell_type": "code",
      "source": [
        "# Imprimir una parte del RDF generado para verificar\n",
        "print(rdf_complete[:1000])  # Imprime los primeros 1000 caracteres"
      ],
      "metadata": {
        "colab": {
          "base_uri": "https://localhost:8080/"
        },
        "id": "hhG3o9vk_Kjx",
        "outputId": "6ffa9cc3-0e1f-4b9c-8d48-917735caac09"
      },
      "execution_count": null,
      "outputs": [
        {
          "output_type": "stream",
          "name": "stdout",
          "text": [
            "\n",
            "@prefix ex: <http://example.org/poblacion#> .\n",
            "@prefix geo: <http://www.w3.org/2003/01/geo/wgs84_pos#> .\n",
            "@prefix xsd: <http://www.w3.org/2001/XMLSchema#> .\n",
            "@prefix owl: <http://www.w3.org/2002/07/owl#> .\n",
            "\n",
            "ex:PopulationData a owl:Class .\n",
            "\n",
            "ex:PopulationData_1 a ex:PopulationData ;\n",
            "ex:region \"Tarapacá\"^^xsd:string ;\n",
            "ex:edad \"0\"^^xsd:string ;\n",
            "ex:genero \"Hombres\"^^xsd:string ;\n",
            "ex:poblacion \"2960\"^^xsd:integer ;\n",
            "ex:ano \"2012\"^^xsd:integer .\n",
            "\n",
            "ex:PopulationData_2 a ex:PopulationData ;\n",
            "ex:region \"Tarapacá\"^^xsd:string ;\n",
            "ex:edad \"1\"^^xsd:string ;\n",
            "ex:genero \"Hombres\"^^xsd:string ;\n",
            "ex:poblacion \"2974\"^^xsd:integer ;\n",
            "ex:ano \"2012\"^^xsd:integer .\n",
            "\n",
            "ex:PopulationData_3 a ex:PopulationData ;\n",
            "ex:region \"Tarapacá\"^^xsd:string ;\n",
            "ex:edad \"2\"^^xsd:string ;\n",
            "ex:genero \"Hombres\"^^xsd:string ;\n",
            "ex:poblacion \"2916\"^^xsd:integer ;\n",
            "ex:ano \"2012\"^^xsd:integer .\n",
            "\n",
            "ex:PopulationData_4 a ex:PopulationData ;\n",
            "ex:region \"Tarapacá\"^^xsd:string ;\n",
            "ex:edad \"3\"^^xsd:string ;\n",
            "ex:genero \"Hombres\"^^xsd:string ;\n",
            "ex:poblacion \"2847\"\n"
          ]
        }
      ]
    },
    {
      "cell_type": "code",
      "source": [
        "!pip install --upgrade pyshex"
      ],
      "metadata": {
        "colab": {
          "base_uri": "https://localhost:8080/"
        },
        "id": "FrCXVzc0_qoR",
        "outputId": "5e764e43-7200-4d54-f22d-1897b546850d"
      },
      "execution_count": null,
      "outputs": [
        {
          "output_type": "stream",
          "name": "stdout",
          "text": [
            "Requirement already satisfied: pyshex in /usr/local/lib/python3.11/dist-packages (0.8.1)\n",
            "Requirement already satisfied: cfgraph>=0.2.1 in /usr/local/lib/python3.11/dist-packages (from pyshex) (0.2.1)\n",
            "Requirement already satisfied: chardet in /usr/local/lib/python3.11/dist-packages (from pyshex) (5.2.0)\n",
            "Requirement already satisfied: pyshexc==0.9.1 in /usr/local/lib/python3.11/dist-packages (from pyshex) (0.9.1)\n",
            "Requirement already satisfied: rdflib-shim in /usr/local/lib/python3.11/dist-packages (from pyshex) (1.0.3)\n",
            "Requirement already satisfied: requests>=2.22.0 in /usr/local/lib/python3.11/dist-packages (from pyshex) (2.32.3)\n",
            "Requirement already satisfied: shexjsg>=0.8.2 in /usr/local/lib/python3.11/dist-packages (from pyshex) (0.8.2)\n",
            "Requirement already satisfied: sparqlslurper>=0.5.1 in /usr/local/lib/python3.11/dist-packages (from pyshex) (0.5.1)\n",
            "Requirement already satisfied: sparqlwrapper>=1.8.5 in /usr/local/lib/python3.11/dist-packages (from pyshex) (2.0.0)\n",
            "Requirement already satisfied: urllib3 in /usr/local/lib/python3.11/dist-packages (from pyshex) (2.3.0)\n",
            "Requirement already satisfied: antlr4-python3-runtime~=4.9.3 in /usr/local/lib/python3.11/dist-packages (from pyshexc==0.9.1->pyshex) (4.9.3)\n",
            "Requirement already satisfied: jsonasobj>=1.2.1 in /usr/local/lib/python3.11/dist-packages (from pyshexc==0.9.1->pyshex) (1.3.1)\n",
            "Requirement already satisfied: pyjsg>=0.11.10 in /usr/local/lib/python3.11/dist-packages (from pyshexc==0.9.1->pyshex) (0.11.10)\n",
            "Requirement already satisfied: rdflib>=0.4.2 in /usr/local/lib/python3.11/dist-packages (from cfgraph>=0.2.1->pyshex) (7.1.3)\n",
            "Requirement already satisfied: charset-normalizer<4,>=2 in /usr/local/lib/python3.11/dist-packages (from requests>=2.22.0->pyshex) (3.4.1)\n",
            "Requirement already satisfied: idna<4,>=2.5 in /usr/local/lib/python3.11/dist-packages (from requests>=2.22.0->pyshex) (3.10)\n",
            "Requirement already satisfied: certifi>=2017.4.17 in /usr/local/lib/python3.11/dist-packages (from requests>=2.22.0->pyshex) (2024.12.14)\n",
            "Requirement already satisfied: rdflib-jsonld==0.6.1 in /usr/local/lib/python3.11/dist-packages (from rdflib-shim->pyshex) (0.6.1)\n",
            "Requirement already satisfied: pyparsing<4,>=2.1.0 in /usr/local/lib/python3.11/dist-packages (from rdflib>=0.4.2->cfgraph>=0.2.1->pyshex) (3.2.1)\n"
          ]
        }
      ]
    },
    {
      "cell_type": "code",
      "source": [
        "\n",
        "# Definir la ruta al esquema ShEx\n",
        "shex_path = '/content/drive/My Drive/schemaPoblacion_2.shex'\n",
        "\n",
        "\n",
        "# Verificar si el archivo ShEx existe\n",
        "if not os.path.exists(shex_path):\n",
        "    raise FileNotFoundError(f\"El esquema ShEx {shex_path} no se encuentra. Por favor, verifica la ruta.\")\n",
        "\n",
        "# Leer RDF y ShEx\n",
        "with open(output_rdf_path, \"r\", encoding=\"utf-8\") as rdf_file:\n",
        "    rdf_data = rdf_file.read()\n",
        "\n",
        "with open(shex_path, \"r\", encoding=\"utf-8\") as shex_file:\n",
        "    shex_schema = shex_file.read()\n",
        "\n",
        "# Inicializar el evaluador sin validate_shapes\n",
        "evaluator = ShExEvaluator(rdf=rdf_data, schema=shex_schema)\n",
        "\n",
        "# Realizar la evaluación\n",
        "results = evaluator.evaluate()\n",
        "\n",
        "# Imprimir resultados\n",
        "for result in results:\n",
        "    conformidad = \"Sí\" if result.result else \"No\"\n",
        "    print(f\"Conformidad: {conformidad}, Nodo: {result.focus}\")\n",
        "    if result.message:\n",
        "        print(f\"Mensaje: {result.message}\\n\")"
      ],
      "metadata": {
        "colab": {
          "base_uri": "https://localhost:8080/",
          "height": 211
        },
        "id": "zG8NX2uG-y3e",
        "outputId": "d25d65ca-4b65-43d1-d087-c9cd37c821d4"
      },
      "execution_count": null,
      "outputs": [
        {
          "output_type": "stream",
          "name": "stdout",
          "text": [
            "Conformidad: No, Nodo: http://example.org/poblacion#PopulationData\n"
          ]
        },
        {
          "output_type": "error",
          "ename": "AttributeError",
          "evalue": "'EvaluationResult' object has no attribute 'message'",
          "traceback": [
            "\u001b[0;31m---------------------------------------------------------------------------\u001b[0m",
            "\u001b[0;31mAttributeError\u001b[0m                            Traceback (most recent call last)",
            "\u001b[0;32m<ipython-input-17-4c2f66c70cc2>\u001b[0m in \u001b[0;36m<cell line: 0>\u001b[0;34m()\u001b[0m\n\u001b[1;32m     24\u001b[0m     \u001b[0mconformidad\u001b[0m \u001b[0;34m=\u001b[0m \u001b[0;34m\"Sí\"\u001b[0m \u001b[0;32mif\u001b[0m \u001b[0mresult\u001b[0m\u001b[0;34m.\u001b[0m\u001b[0mresult\u001b[0m \u001b[0;32melse\u001b[0m \u001b[0;34m\"No\"\u001b[0m\u001b[0;34m\u001b[0m\u001b[0;34m\u001b[0m\u001b[0m\n\u001b[1;32m     25\u001b[0m     \u001b[0mprint\u001b[0m\u001b[0;34m(\u001b[0m\u001b[0;34mf\"Conformidad: {conformidad}, Nodo: {result.focus}\"\u001b[0m\u001b[0;34m)\u001b[0m\u001b[0;34m\u001b[0m\u001b[0;34m\u001b[0m\u001b[0m\n\u001b[0;32m---> 26\u001b[0;31m     \u001b[0;32mif\u001b[0m \u001b[0mresult\u001b[0m\u001b[0;34m.\u001b[0m\u001b[0mmessage\u001b[0m\u001b[0;34m:\u001b[0m\u001b[0;34m\u001b[0m\u001b[0;34m\u001b[0m\u001b[0m\n\u001b[0m\u001b[1;32m     27\u001b[0m         \u001b[0mprint\u001b[0m\u001b[0;34m(\u001b[0m\u001b[0;34mf\"Mensaje: {result.message}\\n\"\u001b[0m\u001b[0;34m)\u001b[0m\u001b[0;34m\u001b[0m\u001b[0;34m\u001b[0m\u001b[0m\n",
            "\u001b[0;31mAttributeError\u001b[0m: 'EvaluationResult' object has no attribute 'message'"
          ]
        }
      ]
    },
    {
      "cell_type": "code",
      "source": [
        "from rdflib import Graph, Namespace, RDF\n",
        "from pyshex import ShExEvaluator\n",
        "\n",
        "# Definir el Namespace\n",
        "ex = Namespace(\"http://example.org/poblacion#\")\n",
        "\n",
        "# Cargar el RDF\n",
        "g = Graph()\n",
        "g.parse(output_rdf_path, format='turtle')\n",
        "\n",
        "# Encontrar todas las instancias de ex:PopulationData\n",
        "instances = list(g.subjects(RDF.type, ex.PopulationData))\n",
        "\n",
        "# Excluir la clase 'PopulationData' si está incluida accidentalmente\n",
        "instances = [inst for inst in instances if inst != ex.PopulationData]\n",
        "\n",
        "print(f\"Total de instancias encontradas: {len(instances)}\")\n",
        "print(\"Primeras 5 instancias:\")\n",
        "for inst in instances[:5]:\n",
        "    print(inst)\n",
        "\n",
        "# Leer el esquema ShEx\n",
        "with open(shex_path, \"r\", encoding=\"utf-8\") as shex_file:\n",
        "    shex_schema = shex_file.read()\n",
        "\n",
        "# Leer el RDF completo como string para pyshex\n",
        "with open(output_rdf_path, \"r\", encoding=\"utf-8\") as rdf_file:\n",
        "    rdf_data = rdf_file.read()\n",
        "\n",
        "# Inicializar el evaluador ShEx\n",
        "evaluator = ShExEvaluator(rdf=rdf_data, schema=shex_schema)\n",
        "\n",
        "# Validar un subconjunto de instancias inicialmente (por ejemplo, las primeras 10)\n",
        "for instance in instances[:10]:\n",
        "    instance_str = str(instance)  # Convertir a string para pyshex\n",
        "    # Realizar la evaluación de la instancia contra el shape PopulationDataShape\n",
        "    try:\n",
        "        results = evaluator.evaluate(focus_node=instance_str, shapes=\"http://example.org/poblacion#PopulationDataShape\")\n",
        "\n",
        "        for result in results:\n",
        "            conformidad = \"Sí\" if result.result else \"No\"\n",
        "            print(f\"Conformidad: {conformidad}, Nodo: {result.focus}\")\n",
        "            if result.explanation:\n",
        "                print(f\"Mensaje: {result.explanation}\\n\")\n",
        "    except TypeError as e:\n",
        "        print(f\"Error al evaluar el nodo {instance_str}: {e}\")\n",
        "\n"
      ],
      "metadata": {
        "colab": {
          "base_uri": "https://localhost:8080/"
        },
        "id": "Oe3WWHGLDZ4W",
        "outputId": "2d6e73de-8c94-4fa1-8c83-c3bbcb3e3d8d"
      },
      "execution_count": null,
      "outputs": [
        {
          "output_type": "stream",
          "name": "stdout",
          "text": [
            "Total de instancias encontradas: 7776\n",
            "Primeras 5 instancias:\n",
            "http://example.org/poblacion#PopulationData_1\n",
            "http://example.org/poblacion#PopulationData_2\n",
            "http://example.org/poblacion#PopulationData_3\n",
            "http://example.org/poblacion#PopulationData_4\n",
            "http://example.org/poblacion#PopulationData_5\n",
            "Error al evaluar el nodo http://example.org/poblacion#PopulationData_1: ShExEvaluator.evaluate() got an unexpected keyword argument 'focus_node'\n",
            "Error al evaluar el nodo http://example.org/poblacion#PopulationData_2: ShExEvaluator.evaluate() got an unexpected keyword argument 'focus_node'\n",
            "Error al evaluar el nodo http://example.org/poblacion#PopulationData_3: ShExEvaluator.evaluate() got an unexpected keyword argument 'focus_node'\n",
            "Error al evaluar el nodo http://example.org/poblacion#PopulationData_4: ShExEvaluator.evaluate() got an unexpected keyword argument 'focus_node'\n",
            "Error al evaluar el nodo http://example.org/poblacion#PopulationData_5: ShExEvaluator.evaluate() got an unexpected keyword argument 'focus_node'\n",
            "Error al evaluar el nodo http://example.org/poblacion#PopulationData_6: ShExEvaluator.evaluate() got an unexpected keyword argument 'focus_node'\n",
            "Error al evaluar el nodo http://example.org/poblacion#PopulationData_7: ShExEvaluator.evaluate() got an unexpected keyword argument 'focus_node'\n",
            "Error al evaluar el nodo http://example.org/poblacion#PopulationData_8: ShExEvaluator.evaluate() got an unexpected keyword argument 'focus_node'\n",
            "Error al evaluar el nodo http://example.org/poblacion#PopulationData_9: ShExEvaluator.evaluate() got an unexpected keyword argument 'focus_node'\n",
            "Error al evaluar el nodo http://example.org/poblacion#PopulationData_10: ShExEvaluator.evaluate() got an unexpected keyword argument 'focus_node'\n"
          ]
        }
      ]
    },
    {
      "cell_type": "markdown",
      "source": [
        "# CSV: Colegios en Durham"
      ],
      "metadata": {
        "id": "A_80cR5wUdB1"
      }
    },
    {
      "cell_type": "code",
      "source": [
        "from google.colab import drive\n",
        "drive.mount('/content/drive')"
      ],
      "metadata": {
        "colab": {
          "base_uri": "https://localhost:8080/"
        },
        "id": "GLUlKOLNUjEN",
        "outputId": "f0e82160-b777-46f3-de00-cbbe9a86a7ba"
      },
      "execution_count": null,
      "outputs": [
        {
          "output_type": "stream",
          "name": "stdout",
          "text": [
            "Drive already mounted at /content/drive; to attempt to forcibly remount, call drive.mount(\"/content/drive\", force_remount=True).\n"
          ]
        }
      ]
    },
    {
      "cell_type": "code",
      "source": [
        "!pip install --upgrade rdflib\n",
        "!pip install --upgrade pyshacl\n",
        "!pip install pyshex\n"
      ],
      "metadata": {
        "colab": {
          "base_uri": "https://localhost:8080/"
        },
        "id": "FUwraSWeUngo",
        "outputId": "8d0dbdd1-6212-475c-d951-473b275c3ace"
      },
      "execution_count": null,
      "outputs": [
        {
          "output_type": "stream",
          "name": "stdout",
          "text": [
            "Requirement already satisfied: rdflib in /usr/local/lib/python3.11/dist-packages (7.1.3)\n",
            "Requirement already satisfied: pyparsing<4,>=2.1.0 in /usr/local/lib/python3.11/dist-packages (from rdflib) (3.2.1)\n",
            "Requirement already satisfied: pyshacl in /usr/local/lib/python3.11/dist-packages (0.30.0)\n",
            "Requirement already satisfied: importlib-metadata>6 in /usr/local/lib/python3.11/dist-packages (from pyshacl) (8.6.1)\n",
            "Requirement already satisfied: owlrl<8,>=7.1.2 in /usr/local/lib/python3.11/dist-packages (from pyshacl) (7.1.3)\n",
            "Requirement already satisfied: packaging>=21.3 in /usr/local/lib/python3.11/dist-packages (from pyshacl) (24.2)\n",
            "Requirement already satisfied: prettytable>=3.5.0 in /usr/local/lib/python3.11/dist-packages (from pyshacl) (3.13.0)\n",
            "Requirement already satisfied: rdflib<8.0,>=7.1.1 in /usr/local/lib/python3.11/dist-packages (from rdflib[html]<8.0,>=7.1.1->pyshacl) (7.1.3)\n",
            "Requirement already satisfied: zipp>=3.20 in /usr/local/lib/python3.11/dist-packages (from importlib-metadata>6->pyshacl) (3.21.0)\n",
            "Requirement already satisfied: wcwidth in /usr/local/lib/python3.11/dist-packages (from prettytable>=3.5.0->pyshacl) (0.2.13)\n",
            "Requirement already satisfied: pyparsing<4,>=2.1.0 in /usr/local/lib/python3.11/dist-packages (from rdflib<8.0,>=7.1.1->rdflib[html]<8.0,>=7.1.1->pyshacl) (3.2.1)\n",
            "Requirement already satisfied: html5rdf<2,>=1.2 in /usr/local/lib/python3.11/dist-packages (from rdflib[html]<8.0,>=7.1.1->pyshacl) (1.2.1)\n",
            "Requirement already satisfied: pyshex in /usr/local/lib/python3.11/dist-packages (0.8.1)\n",
            "Requirement already satisfied: cfgraph>=0.2.1 in /usr/local/lib/python3.11/dist-packages (from pyshex) (0.2.1)\n",
            "Requirement already satisfied: chardet in /usr/local/lib/python3.11/dist-packages (from pyshex) (5.2.0)\n",
            "Requirement already satisfied: pyshexc==0.9.1 in /usr/local/lib/python3.11/dist-packages (from pyshex) (0.9.1)\n",
            "Requirement already satisfied: rdflib-shim in /usr/local/lib/python3.11/dist-packages (from pyshex) (1.0.3)\n",
            "Requirement already satisfied: requests>=2.22.0 in /usr/local/lib/python3.11/dist-packages (from pyshex) (2.32.3)\n",
            "Requirement already satisfied: shexjsg>=0.8.2 in /usr/local/lib/python3.11/dist-packages (from pyshex) (0.8.2)\n",
            "Requirement already satisfied: sparqlslurper>=0.5.1 in /usr/local/lib/python3.11/dist-packages (from pyshex) (0.5.1)\n",
            "Requirement already satisfied: sparqlwrapper>=1.8.5 in /usr/local/lib/python3.11/dist-packages (from pyshex) (2.0.0)\n",
            "Requirement already satisfied: urllib3 in /usr/local/lib/python3.11/dist-packages (from pyshex) (2.3.0)\n",
            "Requirement already satisfied: antlr4-python3-runtime~=4.9.3 in /usr/local/lib/python3.11/dist-packages (from pyshexc==0.9.1->pyshex) (4.9.3)\n",
            "Requirement already satisfied: jsonasobj>=1.2.1 in /usr/local/lib/python3.11/dist-packages (from pyshexc==0.9.1->pyshex) (1.3.1)\n",
            "Requirement already satisfied: pyjsg>=0.11.10 in /usr/local/lib/python3.11/dist-packages (from pyshexc==0.9.1->pyshex) (0.11.10)\n",
            "Requirement already satisfied: rdflib>=0.4.2 in /usr/local/lib/python3.11/dist-packages (from cfgraph>=0.2.1->pyshex) (7.1.3)\n",
            "Requirement already satisfied: charset-normalizer<4,>=2 in /usr/local/lib/python3.11/dist-packages (from requests>=2.22.0->pyshex) (3.4.1)\n",
            "Requirement already satisfied: idna<4,>=2.5 in /usr/local/lib/python3.11/dist-packages (from requests>=2.22.0->pyshex) (3.10)\n",
            "Requirement already satisfied: certifi>=2017.4.17 in /usr/local/lib/python3.11/dist-packages (from requests>=2.22.0->pyshex) (2024.12.14)\n",
            "Requirement already satisfied: rdflib-jsonld==0.6.1 in /usr/local/lib/python3.11/dist-packages (from rdflib-shim->pyshex) (0.6.1)\n",
            "Requirement already satisfied: pyparsing<4,>=2.1.0 in /usr/local/lib/python3.11/dist-packages (from rdflib>=0.4.2->cfgraph>=0.2.1->pyshex) (3.2.1)\n"
          ]
        }
      ]
    },
    {
      "cell_type": "code",
      "source": [
        "import os\n",
        "import csv\n",
        "from rdflib import Graph, Namespace, RDF, Literal\n",
        "from rdflib.namespace import XSD, GEO, OWL\n",
        "from pyshacl import validate\n",
        "from pyshex import ShExEvaluator"
      ],
      "metadata": {
        "id": "KM9-_uFLUqW9"
      },
      "execution_count": null,
      "outputs": []
    },
    {
      "cell_type": "code",
      "source": [
        "# Rutas a los archivos en Google Drive\n",
        "csv_file_path = '/content/drive/My Drive/SchoolsDurham.csv'  # Reemplaza con tu ruta\n",
        "\n",
        "# Verificar que los archivos existan\n",
        "if not os.path.exists(csv_file_path):\n",
        "    raise FileNotFoundError(f\"El archivo CSV no se encuentra en la ruta especificada: {csv_file_path}\")\n"
      ],
      "metadata": {
        "id": "2gfOdVsvUveE"
      },
      "execution_count": null,
      "outputs": []
    },
    {
      "cell_type": "code",
      "source": [
        "# Leer y procesar el archivo CSV\n",
        "data_rows = []\n",
        "with open(csv_file_path, 'r', encoding='utf-8') as csvfile:\n",
        "    reader = csv.reader(csvfile)\n",
        "    headers = next(reader)  # Leer la fila de encabezados\n",
        "    for idx, row in enumerate(reader, start=1):\n",
        "        # Asegurarse de que cada fila tenga exactamente 9 elementos\n",
        "        if len(row) != 9:\n",
        "            print(f\"Advertencia: La fila {idx} no tiene 9 elementos y será omitida.\")\n",
        "            continue\n",
        "\n",
        "        nombre = row[0].strip().replace('\"', '\\\\\"')\n",
        "        address1 = row[1].strip().replace('\"', '\\\\\"')\n",
        "        address2 = row[2].strip().replace('\"', '\\\\\"')\n",
        "        address3 = row[3].strip().replace('\"', '\\\\\"') if row[3].strip() else None  # Puede ser None\n",
        "        postcode = row[4].strip().replace('\"', '\\\\\"')\n",
        "        easting = row[5].strip().replace(\",\", \"\")  # Eliminar separadores de miles si los hubiera\n",
        "        northing = row[6].strip().replace(\",\", \"\")\n",
        "        lat = row[7].strip().replace(\",\", \".\")\n",
        "        long = row[8].strip().replace(\",\", \".\")\n",
        "\n",
        "        # Validar y convertir los tipos de datos\n",
        "        try:\n",
        "            easting_decimal = float(easting)\n",
        "        except ValueError:\n",
        "            print(f\"Error: El easting '{easting}' en la fila {idx} no es un decimal válido.\")\n",
        "            continue\n",
        "\n",
        "        try:\n",
        "            northing_decimal = float(northing)\n",
        "        except ValueError:\n",
        "            print(f\"Error: El northing '{northing}' en la fila {idx} no es un decimal válido.\")\n",
        "            continue\n",
        "\n",
        "        try:\n",
        "            lat_decimal = float(lat)\n",
        "            if not (-90 <= lat_decimal <= 90):\n",
        "                raise ValueError\n",
        "        except ValueError:\n",
        "            print(f\"Error: La latitud '{lat}' en la fila {idx} está fuera del rango válido (-90 a 90).\")\n",
        "            continue\n",
        "\n",
        "        try:\n",
        "            long_decimal = float(long)\n",
        "            if not (-180 <= long_decimal <= 180):\n",
        "                raise ValueError\n",
        "        except ValueError:\n",
        "            print(f\"Error: La longitud '{long}' en la fila {idx} está fuera del rango válido (-180 a 180).\")\n",
        "            continue\n",
        "\n",
        "        data_rows.append({\n",
        "            'nombre': nombre,\n",
        "            'address1': address1,\n",
        "            'address2': address2,\n",
        "            'address3': address3,\n",
        "            'postcode': postcode,\n",
        "            'easting': easting_decimal,\n",
        "            'northing': northing_decimal,\n",
        "            'lat': lat_decimal,\n",
        "            'long': long_decimal\n",
        "        })\n",
        "\n",
        "# Mostrar algunas filas procesadas para verificar\n",
        "print(\"Primeras 5 filas procesadas:\")\n",
        "for row in data_rows[:5]:\n",
        "    print(row)"
      ],
      "metadata": {
        "colab": {
          "base_uri": "https://localhost:8080/"
        },
        "id": "9nK3OflBVGKR",
        "outputId": "8c841d3c-ca59-4dba-c481-2c6269c1fd0d"
      },
      "execution_count": null,
      "outputs": [
        {
          "output_type": "stream",
          "name": "stdout",
          "text": [
            "Primeras 5 filas procesadas:\n",
            "{'nombre': 'Aclet Close Nursery', 'address1': 'Aclet Close', 'address2': 'Bishop Auckland', 'address3': None, 'postcode': 'DL146PX', 'easting': 420567.375, 'northing': 527882.1876, 'lat': 54.645515, 'long': -1.681249}\n",
            "{'nombre': 'Acre Rigg Academy', 'address1': 'Acre Rigg Road', 'address2': 'Peterlee', 'address3': None, 'postcode': 'SR8 2DU', 'easting': 441971.3751, 'northing': 541494.25, 'lat': 54.766521, 'long': -1.347589}\n",
            "{'nombre': 'Acre Rigg Infant', 'address1': 'Acre Rigg Road', 'address2': 'Peterlee', 'address3': None, 'postcode': 'SR8 2DU', 'easting': 442029.7812, 'northing': 541494.8125, 'lat': 54.766521, 'long': -1.346682}\n",
            "{'nombre': 'All Saints RC VA Primary', 'address1': 'Kitswell Road', 'address2': 'Lanchester', 'address3': 'Durham', 'postcode': 'DH7 0JG', 'easting': 416323.7813, 'northing': 547746.9375, 'lat': 54.824205, 'long': -1.7459}\n",
            "{'nombre': 'Annfield Plain Infant', 'address1': 'Northgate', 'address2': 'Annfield Plain', 'address3': 'Stanley', 'postcode': 'DH9 7UY', 'easting': 416905.5, 'northing': 551313.375, 'lat': 54.856239, 'long': -1.736637}\n"
          ]
        }
      ]
    },
    {
      "cell_type": "code",
      "source": [],
      "metadata": {
        "id": "2zNg4swFr3Hf"
      },
      "execution_count": null,
      "outputs": []
    },
    {
      "cell_type": "code",
      "source": [
        "# Definir Namespaces\n",
        "EX = Namespace(\"http://example.org/schools#\")\n",
        "GEO = Namespace(\"http://www.w3.org/2003/01/geo/wgs84_pos#\")\n",
        "OWL_NS = Namespace(\"http://www.w3.org/2002/07/owl#\")\n",
        "XSD_NS = Namespace(\"http://www.w3.org/2001/XMLSchema#\")\n",
        "\n",
        "# Iniciar el grafo RDF\n",
        "rdf_prefixes = f\"\"\"\n",
        "@prefix ex: <{EX}> .\n",
        "@prefix geo: <{GEO}> .\n",
        "@prefix xsd: <{XSD_NS}> .\n",
        "@prefix owl: <{OWL_NS}> .\n",
        "\n",
        "\"\"\"\n",
        "\n",
        "# Definir la clase School\n",
        "rdf_class = \"ex:School a owl:Class .\\n\\n\"\n",
        "\n",
        "# Construir las instancias\n",
        "rdf_instances = \"\"\n",
        "for idx, row in enumerate(data_rows, start=1):\n",
        "    nombre = row['nombre']\n",
        "    address1 = row['address1']\n",
        "    address2 = row['address2']\n",
        "    address3 = row['address3']\n",
        "    postcode = row['postcode']\n",
        "    easting = row['easting']\n",
        "    northing = row['northing']\n",
        "    lat = row['lat']\n",
        "    long = row['long']\n",
        "\n",
        "    # Crear la instancia en Turtle\n",
        "    instance = f\"\"\"ex:School_{idx} a ex:School ;\n",
        "    ex:name \"{nombre}\"^^xsd:string ;\n",
        "    ex:address1 \"{address1}\"^^xsd:string ;\n",
        "    ex:address2 \"{address2}\"^^xsd:string ;\n",
        "\"\"\"\n",
        "    if address3:\n",
        "        instance += f\"    ex:address3 \\\"{address3}\\\"^^xsd:string ;\\n\"\n",
        "    else:\n",
        "        instance += f\"    ex:address3 \\\"\\\"^^xsd:string ;\\n\"  # Representar como cadena vacía\n",
        "\n",
        "    instance += f\"\"\"    ex:postcode \"{postcode}\"^^xsd:string ;\n",
        "    ex:easting \"{easting}\"^^xsd:decimal ;\n",
        "    ex:northing \"{northing}\"^^xsd:decimal ;\n",
        "    ex:lat \"{lat}\"^^xsd:decimal ;\n",
        "    ex:long \"{long}\"^^xsd:decimal .\n",
        "\n",
        "    \"\"\"\n",
        "    rdf_instances += instance\n",
        "\n",
        "# Combinar todo\n",
        "rdf_complete = rdf_prefixes + rdf_class + rdf_instances\n",
        "\n",
        "# Mostrar una parte del RDF generado para verificar\n",
        "print(rdf_complete[:1000])  # Imprime los primeros 1000 caracteres"
      ],
      "metadata": {
        "colab": {
          "base_uri": "https://localhost:8080/"
        },
        "id": "9gQ2XQS5V09z",
        "outputId": "5b773a35-6a4d-4a7c-8bf8-8accfc905e2b"
      },
      "execution_count": null,
      "outputs": [
        {
          "output_type": "stream",
          "name": "stdout",
          "text": [
            "\n",
            "@prefix ex: <http://example.org/schools#> .\n",
            "@prefix geo: <http://www.w3.org/2003/01/geo/wgs84_pos#> .\n",
            "@prefix xsd: <http://www.w3.org/2001/XMLSchema#> .\n",
            "@prefix owl: <http://www.w3.org/2002/07/owl#> .\n",
            "\n",
            "ex:School a owl:Class .\n",
            "\n",
            "ex:School_1 a ex:School ;\n",
            "    ex:name \"Aclet Close Nursery\"^^xsd:string ;\n",
            "    ex:address1 \"Aclet Close\"^^xsd:string ;\n",
            "    ex:address2 \"Bishop Auckland\"^^xsd:string ;\n",
            "    ex:address3 \"\"^^xsd:string ;\n",
            "    ex:postcode \"DL146PX\"^^xsd:string ;\n",
            "    ex:easting \"420567.375\"^^xsd:decimal ;\n",
            "    ex:northing \"527882.1876\"^^xsd:decimal ;\n",
            "    ex:lat \"54.645515\"^^xsd:decimal ;\n",
            "    ex:long \"-1.681249\"^^xsd:decimal .\n",
            "\n",
            "    ex:School_2 a ex:School ;\n",
            "    ex:name \"Acre Rigg Academy\"^^xsd:string ;\n",
            "    ex:address1 \"Acre Rigg Road\"^^xsd:string ;\n",
            "    ex:address2 \"Peterlee\"^^xsd:string ;\n",
            "    ex:address3 \"\"^^xsd:string ;\n",
            "    ex:postcode \"SR8 2DU\"^^xsd:string ;\n",
            "    ex:easting \"441971.3751\"^^xsd:decimal ;\n",
            "    ex:northing \"541494.25\"^^xsd:decimal ;\n",
            "    ex:lat \"54.766521\"^^xsd:decimal ;\n",
            "    e\n"
          ]
        }
      ]
    },
    {
      "cell_type": "code",
      "source": [
        "# Definir la ruta para guardar el archivo RDF en Drive\n",
        "output_rdf_path = '/content/drive/My Drive/output_SchoolsDurham.rdf'\n",
        "\n",
        "with open(output_rdf_path, \"w\", encoding='utf-8') as f:\n",
        "    f.write(rdf_complete)\n",
        "\n",
        "print(f\"Archivo RDF guardado en: {output_rdf_path}\")"
      ],
      "metadata": {
        "id": "CU50hZEpV4eT",
        "outputId": "2816b772-1036-45c2-90dc-240eb79c6be2",
        "colab": {
          "base_uri": "https://localhost:8080/"
        }
      },
      "execution_count": null,
      "outputs": [
        {
          "output_type": "stream",
          "name": "stdout",
          "text": [
            "Archivo RDF guardado en: /content/drive/My Drive/output_SchoolsDurham.rdf\n"
          ]
        }
      ]
    }
  ]
}